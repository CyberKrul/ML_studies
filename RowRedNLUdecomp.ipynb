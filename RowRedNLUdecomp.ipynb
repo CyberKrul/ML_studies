{
 "cells": [
  {
   "cell_type": "markdown",
   "id": "1acfd3c6-7c34-4669-b83d-4134c769ae6e",
   "metadata": {},
   "source": [
    "# Row Reduction and LU decomposition\n",
    "LU is another decomposition underlying data-science algorithms, including least-square model fitting and the matrix inverse.\n",
    "\n",
    "Firstly, before moving to LU decomposition, we must learn about systems of equations, row reduction, and Gaussian elimination. We will also learn about echelon matrices and permutation matrices along the way."
   ]
  },
  {
   "cell_type": "code",
   "execution_count": 1,
   "id": "a91af9cb-3ea5-405b-9332-d3731e120877",
   "metadata": {},
   "outputs": [],
   "source": [
    "import numpy as np\n",
    "import matplotlib.pyplot as plt"
   ]
  },
  {
   "cell_type": "markdown",
   "id": "e98679b9-ee55-4282-acca-a95e82ac323d",
   "metadata": {},
   "source": [
    "## Systems of Equations\n",
    "the following is a system of one equation:\n",
    "\n",
    "$2x = 8$\n",
    "\n",
    "Various mathematical manipulations can be done to an equation, as long as it is done to both sides. The following equation is not the same as the previous, but they are related to each other by simple manipulations. More importantly, the solution of one is a solution to the other.\n",
    "\n",
    "$5(2x-3) = 5(8-3)$\n",
    "\n",
    "Now here is a system of two equations:\n",
    "\n",
    "$x = 4-y$<br>\n",
    "$y = x/2+2$\n",
    "\n",
    "In this system of equations, it's impossible to solve for unique values of $x$ and $y$ from either of those equations alone. Instead, you need to consider both equations simultaneously to derive the solution.\n",
    "\n",
    "An important feature of a system of equations is that you can add or subtract individual equations from each other.\n",
    "\n",
    "Here we've added two times the second equation to the first, and subtracted the first original equation from the second.\n",
    "\n",
    "$x+(2y)=4-y+(x+4)$<br>\n",
    "$y-(x)=x/2+2-(4-y)$\n",
    "\n",
    "Scalar multiplying equations and adding them to other equations made the solution to the system easier to find. Again, the modulated and the original systems are not the same equations, but their solutions are the same because the two systems are linked by a series of linear operations."
   ]
  },
  {
   "cell_type": "markdown",
   "id": "3a7cf3e8-564b-49a5-8e6c-7297b30c57e3",
   "metadata": {},
   "source": [
    "### Converting Equations into Matrices\n",
    "Converting systems of equations into a matrix-vector equation is used to solve systems of equations, and it's used to set up the formula for the general linear model in statistics.\n",
    "\n",
    "Firstly, we organize the equations so that the constants are on the right-hand side of the equations. The constants are the numbers that are unattached to the variables (sometimes called *intercepts* or *offsets*). The variables and their multiplying coefficients are on the left-hand side of the equation, in the same order. ($x$ term first, then the $y$ ,and so on).\n",
    "\n",
    "The following equations form the system of equations we've been working with:\n",
    "\n",
    "$x+y=4$<br>\n",
    "$-x/2+y=2$\n",
    "\n",
    "Second, separate the coefficients into a matrix with one row per equation. The variables are placed into a column vector that right-multiplies the coefficients matrix, and the constants are placed into a column vector on the right-hand side of the equation.\n",
    "\n",
    "$\\begin{bmatrix}1&1\\\\ -1/2&1\\end{bmatrix}\\begin{bmatrix}x\\\\ y\\end{bmatrix} = \\begin{bmatrix}4\\\\ 2\\end{bmatrix}$\n",
    "\n",
    "The system of equations is converted into a matrix equation. We can refer to this equation as $\\mathbf{A}x=b$, where $\\mathbf{A}$ is the matrix of coefficients, $x$ is a vector of unknown variables to solve for, and $b$ is a vector of constants."
   ]
  },
  {
   "cell_type": "markdown",
   "id": "95878a25-ae05-4c56-ba64-127dddd96918",
   "metadata": {},
   "source": [
    "## Working with Matrix Equations\n",
    "Matrix equations can be manipulated just like normal equations, including adding, multiplying, transposing, etc. As long as the manipulations are valid (matrix sizes match for addition) and all manipulations affect both sides of the equation.\n",
    "\n",
    "The following progression of equations is valid:\n",
    "\n",
    "$\\mathbf{A}x=b$<br>\n",
    "$v+\\mathbf{A}x=v+b$<br>\n",
    "$(v+\\mathbf{A}x)^T=(v+b)^T$\n",
    "\n",
    "The main difference between working with matrix equations versus scalar equations is that because matrix multiplication is side-dependent, you must multiply matrices in the same way on both sides of the equation.\n",
    "\n",
    "The following progression of equations is valid:\n",
    "\n",
    "$\\mathbf{AX} = \\mathbf{B}$<br>\n",
    "$\\mathbf{CAX} =\\mathbf{CB}$\n",
    "\n",
    "$\\mathbf{C}$ premultiplies both sides of the equation. In contrast, the following progression is not valid.\n",
    "\n",
    "$\\mathbf{AX}=\\mathbf{B}$<br>\n",
    "$\\mathbf{AXC}=\\mathbf{CB}$\n",
    "\n",
    "The problem here is that $\\mathbf{C}$ post-multiplies on the left-hand side, but pre-multiplies on the right-hand side. There are exceptional cases where this is valid (if $\\mathbf{C}$ is $\\mathbf{I}$ or $\\mathbf{0}$), but in general, that progression is not valid."
   ]
  },
  {
   "cell_type": "code",
   "execution_count": 3,
   "id": "c488128e-da85-4559-ab45-675939e2a340",
   "metadata": {},
   "outputs": [
    {
     "name": "stdout",
     "output_type": "stream",
     "text": [
      "[[-2.22044605e-16  0.00000000e+00  3.33066907e-16  1.11022302e-16]\n",
      " [ 2.22044605e-16  0.00000000e+00  0.00000000e+00  0.00000000e+00]\n",
      " [-2.77555756e-17  2.77555756e-17  3.33066907e-16  5.55111512e-17]\n",
      " [-6.93889390e-17  0.00000000e+00  0.00000000e+00  1.11022302e-16]] [[-2.34412359  2.1065561   4.01448425  0.25650958]\n",
      " [ 2.28379776 -0.09797198 -4.18356671 -0.54966976]\n",
      " [-2.60026089  1.14609922  3.47782603 -0.73781471]\n",
      " [-3.04336147  0.77189926  6.19251633 -1.03573046]]\n"
     ]
    }
   ],
   "source": [
    "#to illustrate the importance of order in matrix equation manipulation\n",
    "A = np.random.randn(4,4)\n",
    "B = np.random.randn(4,4)\n",
    "\n",
    "res1 = np.linalg.inv(A)@B\n",
    "res2 = B@np.linalg.inv(A)\n",
    "\n",
    "print(A@res1-B,A@res2-B)\n",
    "\n",
    "# we can see only res1 gives us a zeros matrix, hence we can see \n",
    "# matrix multiplication is not commutative."
   ]
  },
  {
   "cell_type": "markdown",
   "id": "d44c1304-a713-4a73-8dff-262197bffc92",
   "metadata": {},
   "source": [
    "## Row Reduction\n",
    "*Row Reduction* means iteratively applying two operations- scalar multiplication and addition- to rows of a matrix. Row reduction relies on the same principle as adding equations to other equations within a system.\n",
    "\n",
    "**The goal of row reduction is to transform a dense matrix into an upper triangular matrix**\n",
    "\n",
    "Here is an example:<br>\n",
    "$\\begin{bmatrix}2&3\\\\ -2&2\\end{bmatrix} \\underrightarrow{R_1+R_2} \\begin{bmatrix}2&3\\\\0&5\\end{bmatrix}$\n",
    "\n",
    "The upper triangular matrix that results from row reduction is called the *echelon form* of the matrix.\n",
    "\n",
    "Formally, a matrix is in echelon form if:\n",
    "1. The left-most non-zero number in a row (called the *pivot*) is to the right of the pivot of the rows above\n",
    "2. Any rows of all zeros are below rows containing non-zeros\n",
    "\n",
    "Similar to manipulating equations in a system, the matrix *after* row reduction is different from the matrix *before* row reduction. However, the two matrices are linked by a linear transform. And because linear transforms can be represented by matrices, we can use matrix multiplication to express row reduction:\n",
    "\n",
    "$\\begin{bmatrix}1&0\\\\1&1\\end{bmatrix}\\begin{bmatrix}2&3\\\\ -2&2\\end{bmatrix}=\\begin{bmatrix}2&3\\\\0&5\\end{bmatrix}$\n",
    "\n",
    "We will call that matrix $\\mathbf{L}^{-1}$ (important for LU decomposition). Thus, in the expression $(\\mathbf{L}^{-1}\\mathbf{A}=\\mathbf{U})$, $\\mathbf{L}^{-1}$ is the transformation that keeps track of the manipulations we've implemented through row reduction.\n",
    "\n",
    "$\\mathbf{L}^{-1}$ is often ignored during Gaussian elimination. The key point is:\n",
    "\n",
    "*Row reduction involves transforming a matrix into an upper-triangular matrix via row manipulations, which can be implemented as a premultiplication by a transformation matrix*\n",
    "\n",
    "Here is a $3\\times 3$ matrix, and requires 2 steps to transform into its echelon form:\n",
    "\n",
    "$\\begin{bmatrix}1&2&2\\\\ -1&3&0\\\\ 2&4&-3\\end{bmatrix}\\underrightarrow{-2R_1+R_3}\\begin{bmatrix}1&2&2\\\\ -1&3&0\\\\0&0&-7\\end{bmatrix}\\underrightarrow{R_1+R_2}\\begin{bmatrix}1&2&2\\\\0&5&2\\\\0&0&-7\\end{bmatrix}$\n",
    "\n",
    "there is no function to return the echelon form of a matrix because it is not unique. There are an infinite number of echelon matrices associated with a matrix.\n",
    "\n",
    "Two echelon forms are preferred over the infinite possible echelon forms. Those two forms are unique given some constraints and are called the reduced row echelon form and $\\mathbf{U}$ from LU decomposition."
   ]
  },
  {
   "cell_type": "code",
   "execution_count": 6,
   "id": "b91a15db-0f95-403b-94d9-4ab0ace1be15",
   "metadata": {},
   "outputs": [
    {
     "data": {
      "text/plain": [
       "array([[-1,  2,  2],\n",
       "       [ 2,  3,  0],\n",
       "       [12,  4, -3]])"
      ]
     },
     "execution_count": 6,
     "metadata": {},
     "output_type": "execute_result"
    }
   ],
   "source": [
    "A = np.array([ [1,2,2],[-1,3,0],[2,4,-3] ])\n",
    "B = np.array([ [1,0,0],[1,1,0],[-2,0,1] ])\n",
    "B@A"
   ]
  },
  {
   "cell_type": "markdown",
   "id": "1485e7f4-89c3-489b-b23c-40a392ffed09",
   "metadata": {},
   "source": [
    "### Is Row Reduction easy?\n",
    "Row reducing a matrix to its echelon form requires practice and learning several tricks, like row swapping and partial pivoting. \n",
    "\n",
    "It reveals several interesting properties of the row and column spaces of the matrix. "
   ]
  },
  {
   "cell_type": "markdown",
   "id": "e1c08103-ad22-47ae-9315-1ba64f1b1775",
   "metadata": {},
   "source": [
    "## Gaussian Elimination\n",
    "We can solve a matrix equation without inverting any matrices, using *Gaussian Elimination*.\n",
    "\n",
    "We first augment the matrix of coefficients by the vector of constants, row-reduce to echelon form, and then use back substitution to solve for each variable in turn.\n",
    "\n",
    "We will use  the following equation\n",
    "\n",
    "$x = 4-y$<br>\n",
    "$y = x/2 +2$\n",
    "\n",
    "the first step is to convert this into a matrix equation. \n",
    "\n",
    "$\\begin{bmatrix}1&1\\\\ -1/2&1\\end{bmatrix}\\begin{bmatrix}x\\\\ y\\end{bmatrix}=\\begin{bmatrix}4\\\\2\\end{bmatrix}$\n",
    "\n",
    "We augment the coefficients matrix with the constants vector:\n",
    "\n",
    "$\\begin{bmatrix} 1&1&4\\\\ -1/2&1&2\\end{bmatrix}$\n",
    "\n",
    "Now we reduce that augmented matrix. Note that the column vector of constants will change during row reduction:\n",
    "\n",
    "$\\begin{bmatrix} 1&1&4\\\\ -1/2&1&2\\end{bmatrix}\\underrightarrow{.5R_1+R_2}\\begin{bmatrix} 1&1&4\\\\ 0&3/2&4\\end{bmatrix}$\n",
    "\n",
    "Once we have the matrix in its echelon form, we translate the augmented matrix back into a system of equations:\n",
    "\n",
    "$x + y =4$<br>\n",
    "$3/2y =4$\n",
    "\n",
    "Gaussian Elimination via row reduction removed the $x$ term in the second equation, which means that solving for $y$ merely involves some arithmetic. Once you solve for $y=8/3$, plug that value into $y$ in the first equation and solve for $x$. This procedure is called *back substitution*.\n",
    "\n",
    "there is one unique echelon matrix, called the *reduced row echelon form* an abbreviated RREF, which Python can compute."
   ]
  },
  {
   "cell_type": "markdown",
   "id": "ca8cdc22-580b-488d-b74d-600747b29190",
   "metadata": {},
   "source": [
    "## Gauss-Jordan Elimination\n",
    "Let's keep row-reducing our example matrix to turn all the pivots- the leftmost non-zero numbers in each row- into 1s. Once you have the echelon matrix, you simply divide each row by its pivot.\n",
    "\n",
    "In this example, the first row already has a 1 in the leftmost position, so we just adjsut the second row.\n",
    "\n",
    "$\\begin{bmatrix} 1&1&4\\\\ 0&1&8/3\\end{bmatrix}$\n",
    "\n",
    "We continue row reducing upward to eliminate all the elements above each pivot, that is, we want an echelon matrix in which each pivot is 1 and it's the only nonzero number in its column.\n",
    "\n",
    "$\\begin{bmatrix} 1&1&4\\\\ 0&1&8/3\\end{bmatrix}\\underrightarrow{-R_2+R_1}\\begin{bmatrix} 1&0&4/3\\\\ 0&1&8/3\\end{bmatrix}$\n",
    "\n",
    "this is the RREF of our original matrix. RREF will always produce an identity matrix as a submatrix in the upper-left of the original matrix. That's a result of setting all pivots to 1 and using upward row reduction to eliminate all elements above each pivot.\n",
    "\n",
    "Now we continue with Gaussian elimination by translating the matrix back into a system of equations:\n",
    "\n",
    "$x=4/3$<br>\n",
    "$y=8/3$\n",
    "\n",
    "back substitution or even basic arithmetic is no longer required- the modified gaussian elimination- which is called Gauss-Jordan elimination- decoupled the interwoven variables and laid bare the solutions to each variable.\n",
    "\n",
    "The RREF is unique, meaning that each matrix has exactly one associated RREF. SymPy has a function to calculate the RREF."
   ]
  },
  {
   "cell_type": "code",
   "execution_count": 9,
   "id": "a122ee71-e2b1-4c8d-bb64-41ab973fe77a",
   "metadata": {},
   "outputs": [
    {
     "data": {
      "text/latex": [
       "$\\displaystyle \\left[\\begin{matrix}1 & 0 & 1.33333333333333\\\\0 & 1 & 2.66666666666667\\end{matrix}\\right]$"
      ],
      "text/plain": [
       "Matrix([\n",
       "[1, 0, 1.33333333333333],\n",
       "[0, 1, 2.66666666666667]])"
      ]
     },
     "execution_count": 9,
     "metadata": {},
     "output_type": "execute_result"
    }
   ],
   "source": [
    "import sympy as sym\n",
    "\n",
    "# the matrix converted to sympy\n",
    "M = np.array([ [1,1,4],[-1/2,1,2] ])\n",
    "symMat = sym.Matrix(M)\n",
    "\n",
    "#RREF \n",
    "symMat.rref()[0]"
   ]
  },
  {
   "cell_type": "markdown",
   "id": "4dc3c4a6-1986-4433-842d-06bec1d4a6a8",
   "metadata": {},
   "source": [
    "## Matrix Inverse via Gauss-Jordan elimination\n",
    "The key insight from Gauss-Jordan elimination is that row-reduction produces a sequence of row manipulations that solves a set of equations. Those row manipulations are linear transformation that solves a set of equations.\n",
    "\n",
    "The description of Gauss-Jordan elimination is consistent with the description of the matrix inverse: a linear transformation that solves a set of equations.\n",
    "\n",
    "Consider this system of equations:\n",
    "\n",
    "$ax_1+by_1 =1$<br>\n",
    "$cx_1+dy_1=0$\n",
    "\n",
    "Translated into a matrix equation we get:\n",
    "\n",
    "$\\begin{bmatrix} a&b\\\\ c&d\\end{bmatrix}\\begin{bmatrix}x_1\\\\ y_1\\end{bmatrix}=\\begin{bmatrix} 1\\\\0\\end{bmatrix}$\n",
    "\n",
    "The constants vector is the first column of the $2\\times 2$ identity matrix. This means that applying RREF to a square full-rank matrix augmented by the first column of the identity matrix will reveal the linear transformation that brings the matrix into the first column of the identity matrix. And that in turn means that the vector $[x_1, y_1]^T$ is the first column of the matrix inverse.\n",
    "\n",
    "We can repeat the procedure for the second column:\n",
    "\n",
    "$\\begin{bmatrix} a&b\\\\ c&d\\end{bmatrix}\\begin{bmatrix}x_2\\\\ y_2\\end{bmatrix}=\\begin{bmatrix} 0\\\\1\\end{bmatrix}$\n",
    "\n",
    "RREF on that system gives the vector $[x_2,y_2]^T$, which is the second column of the matrix inverse.\n",
    "\n",
    "The columns of the Identity matrix have been separated here, but the entire Identity matrix can be augmented to $\\mathbf{A}$ and solve for the inverse with one RREF.\n",
    "\n",
    "Here is the bird's eye view of the operation:\n",
    "\n",
    "$rref([\\mathbf{A}|\\mathbf{I}])=>[\\mathbf{I}|\\mathbf{A}^{-1}]$\n",
    "\n",
    "This is of relevance because it allows for the computing of the matrix inverse without determinants. On the other hand, row reduction does involve a lot of division, which increases the risk of numerical precision errors. \n",
    "\n",
    "The conclusion here is the same as using the QR matrix to compute the matrix inverse: using Gauss-Jordan elimination to compute the matrix inverse is likely to be more numerically stable than the full algorithm for the inverse, but a matrix that is close to singular or that has a high condition number is difficult to invert, regardless of algorithm used.\n"
   ]
  },
  {
   "cell_type": "markdown",
   "id": "8c7d23d0-9aca-4267-8979-70320a4da416",
   "metadata": {},
   "source": [
    "## LU Decomposition\n",
    "The 'LU' in LU Decomposition stands for 'lower upper' as in lower-triangular, upper-triangular. The idea is to decompose a matrix into the product of two triangular matrices::\n",
    "\n",
    "$\\mathbf{A}=\\mathbf{LU}$\n",
    "\n",
    "Here's a numerical example:\n",
    "\n",
    "$\\begin{bmatrix} 2&2&4\\\\1&0&3\\\\2&1&2\\end{bmatrix}=\\begin{bmatrix}1&0&0\\\\1/2&1&0\\\\1&1&1\\end{bmatrix}\\begin{bmatrix}2&2&4\\\\0&-1&1\\\\0&0&-3\\end{bmatrix}$\n"
   ]
  },
  {
   "cell_type": "code",
   "execution_count": 12,
   "id": "9de2daa3-a75c-4ed5-a495-f6c993b91019",
   "metadata": {},
   "outputs": [
    {
     "name": "stdout",
     "output_type": "stream",
     "text": [
      "[[1.  0.  0. ]\n",
      " [0.5 1.  0. ]\n",
      " [1.  1.  1. ]]\n",
      "[[ 2.  2.  4.]\n",
      " [ 0. -1.  1.]\n",
      " [ 0.  0. -3.]]\n"
     ]
    }
   ],
   "source": [
    "import scipy.linalg #LU in scipy library\n",
    "\n",
    "#LU decomposition in python:\n",
    "A = np.array([ [2,2,4],[1,0,3],[2,1,2] ])\n",
    "_,L,U = scipy.linalg.lu(A)\n",
    "\n",
    "#printing\n",
    "print(L,U,sep='\\n')"
   ]
  },
  {
   "cell_type": "markdown",
   "id": "ef38e34a-0a56-4cb9-bbe5-5e3ab8a0ddc2",
   "metadata": {},
   "source": [
    "Row reduction can be expressed as $\\mathbf{L}^{-1}\\mathbf{A}=\\mathbf{U}$, where $\\mathbf{L}^{-1}$ contains the set of row manipulations that transforms the dense $\\mathbf{A}$ into upper-triangular (echelon) $\\mathbf{U}$.\n",
    "\n",
    "Because the echelon form is not unique, LU decomposition is not necessarily unique. There is an infinite pairing of lower and upper triangular matrices that could multiply to produce matrix $\\mathbf{A}$. However, adding the constraint that the diagonals of $\\mathbf{L}$ equal 1 ensures that the LU decomposition is unique for a full-rank square matrix $\\mathbf{A}$. "
   ]
  },
  {
   "cell_type": "markdown",
   "id": "baed4276-61f4-463b-9133-3d9bcfe92994",
   "metadata": {},
   "source": [
    "## Row Swaps via Permutation matrices\n",
    "Some matrices do not easily transform into an upper triangular form.\n",
    "\n",
    "consider:<br>\n",
    "$\\begin{bmatrix}3&2&1\\\\0&0&5\\\\0&7&2\\end{bmatrix}$\n",
    "\n",
    "It's not the echelon form, but it would be if we swapped the second and third rows. Row swaps are one of the tricks of row reduction, and are implemented through permutation matrix:\n",
    "\n",
    "$\\begin{bmatrix} 1&0&0\\\\0&0&1\\\\0&1&0\\end{bmatrix}\\begin{bmatrix}3&2&1\\\\0&0&5\\\\0&7&2\\end{bmatrix}=\\begin{bmatrix}3&2&1\\\\0&7&2\\\\0&0&5\\end{bmatrix}$\n",
    "\n",
    "Permutation matrices are often labeled $\\mathbf{P}$. Thus, the full LU decomposition actually takes the following form:\n",
    "\n",
    "$\\mathbf{PA}=\\mathbf{LU}$<br>\n",
    "$\\mathbf{A}=\\mathbf{P}^T\\mathbf{LU}$\n",
    "\n",
    "Permutation matrices are orthogonal. \n",
    "\n",
    "Note: All permutation matrices are identity matrices with row swaps. Therefore the dot product of any two columns is 0, while the dot product of a column with itself is 1, meaning $\\mathbf{P}^T\\mathbf{P}=\\mathbf{I}$.\n",
    "\n",
    "**Important** \n",
    "The above formulas provide the mathematical description of LU decomposition. Scipy actually returns $\\mathbf{A}=\\mathbf{PLU}$, which we could also write as $\\mathbf{P}^T\\mathbf{A}=\\mathbf{LU}$\n",
    "\n",
    "LU decomposition is used in several applications, including computing the determinant and the matrix inverse."
   ]
  },
  {
   "cell_type": "code",
   "execution_count": 14,
   "id": "b16cae91-8062-4bcb-9044-00ff87e6ba45",
   "metadata": {},
   "outputs": [
    {
     "data": {
      "text/plain": [
       "<matplotlib.image.AxesImage at 0x27a44dd4d10>"
      ]
     },
     "execution_count": 14,
     "metadata": {},
     "output_type": "execute_result"
    },
    {
     "data": {
      "image/png": "[encoded data removed]",
      "text/plain": [
       "<Figure size 1200x800 with 4 Axes>"
      ]
     },
     "metadata": {},
     "output_type": "display_data"
    }
   ],
   "source": [
    "A = np.random.randn(6,6)\n",
    "P = np.array([ [0,0,0,1],[1,0,0,0],[0,0,1,0],[0,1,0,0] ])\n",
    "\n",
    "Pt,L,U = scipy.linalg.lu(A)\n",
    "\n",
    "fig,ax = plt.subplots(1,4,figsize=(12,8))\n",
    "ax[0].imshow(A,'gray')b\n",
    "ax[1].imshow(Pt,'gray')\n",
    "ax[2].imshow(L,'gray')\n",
    "ax[3].imshow(U,'gray')"
   ]
  },
  {
   "cell_type": "code",
   "execution_count": 17,
   "id": "f865f80b-9017-4cdc-96c0-76bafc744ae1",
   "metadata": {},
   "outputs": [
    {
     "data": {
      "text/plain": [
       "<matplotlib.image.AxesImage at 0x27a44e02250>"
      ]
     },
     "execution_count": 17,
     "metadata": {},
     "output_type": "execute_result"
    },
    {
     "data": {
      "image/png": "[encoded data removed]",
      "text/plain": [
       "<Figure size 1200x800 with 4 Axes>"
      ]
     },
     "metadata": {},
     "output_type": "display_data"
    }
   ],
   "source": [
    "A = np.random.randn(3,3)\n",
    "P = np.array([ [1,0,0],[0,0,1],[0,1,0] ])\n",
    "F = P@A\n",
    "fig,ax = plt.subplots(1,4,figsize=(12,8))\n",
    "ax[0].imshow(A,'gray')\n",
    "ax[1].imshow(P,'gray')\n",
    "ax[2].imshow(F,'gray')\n",
    "ax[3].imshow(P.T@F,'gray')"
   ]
  }
 ],
 "metadata": {
  "kernelspec": {
   "display_name": "Python 3 (ipykernel)",
   "language": "python",
   "name": "python3"
  },
  "language_info": {
   "codemirror_mode": {
    "name": "ipython",
    "version": 3
   },
   "file_extension": ".py",
   "mimetype": "text/x-python",
   "name": "python",
   "nbconvert_exporter": "python",
   "pygments_lexer": "ipython3",
   "version": "3.11.8"
  }
 },
 "nbformat": 4,
 "nbformat_minor": 5
}
