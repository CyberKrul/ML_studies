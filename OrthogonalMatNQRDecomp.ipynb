{
 "cells": [
  {
   "cell_type": "markdown",
   "id": "6afafba3-2598-40dc-90ae-e275072cb80e",
   "metadata": {},
   "source": [
    "# Orthogonal Matrices and QR Decomposition\n",
    "We will learn five major decompositions in this book: orthogonal vector decomposition, QR decomposition, LU decomposition, eigendecomposition, and Singular Value Decomposition. These are the most important for Data Science and Machine learning.\n",
    "\n",
    "Here we will learn about QR decomposition and orthogonal matrices. It is a crucial decomposition that will come up later as well."
   ]
  },
  {
   "cell_type": "code",
   "execution_count": 1,
   "id": "39042c2e-932a-4796-af36-fe0e6ba6f82c",
   "metadata": {},
   "outputs": [],
   "source": [
    "import numpy as np\n",
    "import matplotlib.pyplot as plt"
   ]
  },
  {
   "cell_type": "markdown",
   "id": "b9ece9e8-7b0c-4aa7-90fa-99cb7b828912",
   "metadata": {},
   "source": [
    "## Orthogonal Matrices\n",
    "Orthogonal matrices are special matrices that are important for several decompositions. The letter $\\mathbf{Q}$ is often used to indicate orthogonal matrices. They have two properties:\n",
    "\n",
    "- *Orthogonal Columns*<br> All columns are pair-wise orthogonal\n",
    "- *Unit-Norm columns*<br> The norm(geometric length) of each column is exactly one.\n",
    "\n",
    "mathematically, we can express this as:\n",
    "\n",
    "$\\langle q_i,q_j \\rangle=\\begin{cases}0&, \\text{if} \\; i\\neq j \\\\ 1&,\\text{if} \\; i=j\\end{cases}$\n",
    "\n",
    "This means that the dot products of any two columns of the orthogonal matrix will be zero if they are not the same column. We can organize all of the dot products amongst all pairs of columns by pre-multiplying the matrix by its transpose. \n",
    "\n",
    "The matrix equation expressing the two key properties of an orthogonal matrix is:\n",
    "\n",
    "$\\mathbf{Q}^T\\mathbf{Q}=\\mathbf{I}$\n",
    "\n",
    "$\\mathbf{Q}^T$ is a matrix that multiplies $\\mathbf{Q}$ to produce the identity matrix, so *the inverse of an orthogonal matrix is its transpose*\n",
    "\n",
    "Here are some examples of orthogonal matrices:\n",
    "\n",
    "$\\frac{1}{\\sqrt{2}}\\begin{bmatrix}1&-1\\\\ 1&1\\end{bmatrix}, \\frac{1}{3}\\begin{bmatrix}1&2&2\\\\ 2&1&-2\\\\ -2&2&-1\\end{bmatrix}$\n",
    "\n",
    "Another examples of an orthogonal matrix are the pure rotation matrices.\n",
    "\n",
    "Permutation matrices are also orthogonal- they are used to exchange the rows of a matrix.\n",
    "\n",
    "We can find orthogonal matrices from non-orthogonal matrices via QR decomposition, which is basically a sophisticated version of Gram-Schidmt (orthogonal vector decomposition)"
   ]
  },
  {
   "cell_type": "code",
   "execution_count": 15,
   "id": "4d638bc4-462a-4154-affe-0d69e4720ce8",
   "metadata": {},
   "outputs": [
    {
     "data": {
      "text/plain": [
       "array([[ 1.00000000e+00, -1.26599665e-17],\n",
       "       [-1.26599665e-17,  1.00000000e+00]])"
      ]
     },
     "execution_count": 15,
     "metadata": {},
     "output_type": "execute_result"
    }
   ],
   "source": [
    "A = np.array([ [1,2,2],[2,1,-2],[-2,2,-1] ])\n",
    "A/3@A.T/3 == np.eye(3,3) #so Q^T@Q and QQ^T are equivalent, both producing the I_3\n",
    "A.T@A/9\n",
    "theta = np.pi/5\n",
    "B = np.array([ [np.cos(theta),np.sin(theta)],[-np.sin(theta),np.cos(theta)] ])\n",
    "B@B.T"
   ]
  },
  {
   "cell_type": "markdown",
   "id": "0a8bd02e-f399-4ff6-a33e-bce93c298a6c",
   "metadata": {},
   "source": [
    "## Gram-Schidmt\n",
    "The Gram-Schidmt procedure is a way to transform a non-orthogonal matrix into an orthogonal matrix.\n",
    "\n",
    "A matrix $\\mathbf{V}$ comprising columns $v_1$ through $v_n$ is transformed into an orthogonal matrix $\\mathbf{Q}$ with column $q_k$ according to the following algorithm:\n",
    "\n",
    "1. Orthogonalize $v_k$ to all previous columns in matrix $\\mathbf{Q}$ using orthogonal vector decomposition (that is, compute the component of $v_k$ that is perpendicular to $q_{k-1},q_{k-2}$ and so on, down to $q_1$. The orthogonalized vector is called $v_k^*$.\n",
    "2. Normalize $v_k^*$ to unit length. This is now $q_k$, the $k$th column in matrix $\\mathbf{Q}$"
   ]
  },
  {
   "cell_type": "markdown",
   "id": "4ec568ab-93a0-46ef-be9f-7d8a93de9016",
   "metadata": {},
   "source": [
    "#### orthogonal vector decomposition\n",
    "\n",
    "$r,t$ <br>\n",
    "Here $r$ is the reference vector (the parallel and perpendicular components will be calculated wrt this vector). $t$ is the target vector (the vector to be decomposed)\n",
    "\n",
    "$t_{||} + t_\\perp = t$<br>\n",
    "The summated parallel and perpendicular components of the target vector give us the target vector\n",
    "\n",
    "$t_{||} = \\beta r$<br>\n",
    "We take the parallel component to be a scaled version of the target vector\n",
    "\n",
    "$r^T.(t-\\beta r)= 0$<br>\n",
    "The dot product of the reference with the difference of the target $t$ and the scaled $\\beta r$\n",
    "\n",
    "$r^T.t=\\beta r^T.r$\n",
    "\n",
    "$\\beta = \\frac{r^T.t}{r^T.r}$\n",
    "\n",
    "$t_{||}=\\frac{r^T.t}{r^T.r}r$<br>\n",
    "We can see this as the projection of $t$ onto $r$. The $r^T.t$ term gives us the magnitude of the parallel component, and $\\frac{r}{r^Tr}$ gives us the direction of the $r$,\n",
    "\n",
    "$t_\\perp = t-\\frac{r^T.t}{r^T.r}r$<br>\n",
    "A simple case of vector algebra."
   ]
  },
  {
   "cell_type": "code",
   "execution_count": 37,
   "id": "0978fdd9-77b0-4bf3-ab3e-c1d8e54ddeac",
   "metadata": {},
   "outputs": [
    {
     "data": {
      "text/plain": [
       "<matplotlib.image.AxesImage at 0x20cbbe92bd0>"
      ]
     },
     "execution_count": 37,
     "metadata": {},
     "output_type": "execute_result"
    },
    {
     "data": {
      "image/png": "[encoded data removed]",
      "text/plain": [
       "<Figure size 1200x500 with 3 Axes>"
      ]
     },
     "metadata": {},
     "output_type": "display_data"
    }
   ],
   "source": [
    "matN=4\n",
    "\n",
    "A = np.random.randn(matN,matN)\n",
    "Q = np.zeros((matN,matN))\n",
    "\n",
    "Q[:,0] = A[:,0]/np.sqrt(np.sum(A[:,0]**2))\n",
    "\n",
    "for i in range(1,matN):\n",
    "    # orthogonal vector decomposition:\n",
    "    v = A[:,i] \n",
    "    #orthogonalize to all previous columns in Q\n",
    "    for j in range(0,i):\n",
    "        r = Q[:,j]\n",
    "        v = v - (np.dot(r,v)/np.dot(r,r))*r\n",
    "    Q[:,i] = v/np.sqrt(np.sum(v**2))\n",
    "Q@Q.T\n",
    "\n",
    "\n",
    "fig,ax = plt.subplots(1,3,figsize=(12,5))\n",
    "ax[0].imshow(A,'gray')\n",
    "ax[1].imshow(Q,'gray')\n",
    "ax[2].imshow(Q@Q.T,'gray')"
   ]
  },
  {
   "cell_type": "markdown",
   "id": "09832dcf-5af5-44ca-b737-61dd1399b2b9",
   "metadata": {},
   "source": [
    "## QR Decomposition\n",
    "The GS procedure transforms a matrix into an orthogonal matrix $\\mathbf{Q}$. $\\mathbf{Q}$ is actually obtained using a series of vector-plane reflections known as Householder transformation, but that is simply due to numerical stability.\n",
    "\n",
    "$\\mathbf{Q}$ is different from the original matrix, so we have lost some information there. But the lost information can still be retrieved and stored in another matrix $\\mathbf{R}$, that multiplies $\\mathbf{Q}$. How do we create $\\mathbf{R}$?\n",
    "\n",
    "$\\mathbf{A} = \\mathbf{QR}$<br>\n",
    "$\\mathbf{Q}^T\\mathbf{A}= \\mathbf{Q}^T\\mathbf{QR}$<br>\n",
    "$\\mathbf{Q}^T\\mathbf{A} = \\mathbf{R}$\n",
    "\n",
    "The beauty of orthogonal matrices is we can solve matrix equations without having to worry about computing the inverse.\n",
    "\n",
    "We can compute the QR decomposition of a square matrix using:\n",
    "\n",
    "```\n",
    "A = np.random.randn(6,6)\n",
    "Q,R = np.linalg.qr(A)\n",
    "```"
   ]
  },
  {
   "cell_type": "code",
   "execution_count": 92,
   "id": "eec0fda7-b5a5-4d51-a99d-7a6619ff0bad",
   "metadata": {},
   "outputs": [
    {
     "data": {
      "text/plain": [
       "-8.326672684688674e-17"
      ]
     },
     "execution_count": 92,
     "metadata": {},
     "output_type": "execute_result"
    },
    {
     "data": {
      "image/png": "[encoded data removed]",
      "text/plain": [
       "<Figure size 1200x800 with 5 Axes>"
      ]
     },
     "metadata": {},
     "output_type": "display_data"
    }
   ],
   "source": [
    "##### A = np.random.randn(6,6)\n",
    "Q,R = np.linalg.qr(A)\n",
    "fig,axs = plt.subplot_mosaic([ ['A','B','C'],['D','.','E'] ],figsize=(12,8))\n",
    "\n",
    "axs['A'].imshow(A,'gray')\n",
    "axs['A'].set_axis_off()\n",
    "axs['A'].set_title('A')\n",
    "\n",
    "axs['B'].imshow(Q,'gray')\n",
    "axs['B'].set_axis_off()\n",
    "axs['B'].set_title('Q')\n",
    "\n",
    "axs['C'].imshow(R,'gray')\n",
    "axs['C'].set_axis_off()\n",
    "axs['C'].set_title('R')\n",
    "\n",
    "axs['D'].imshow(A-Q@R,'gray')\n",
    "axs['D'].set_axis_off()\n",
    "axs['D'].set_title('A-QR')\n",
    "\n",
    "axs['E'].imshow(Q.T@Q,'gray')\n",
    "axs['E'].set_axis_off()\n",
    "axs['E'].set_title(r'Q^T @Q')\n",
    "\n",
    "np.dot(Q[:,4],A[:,3])"
   ]
  },
  {
   "cell_type": "markdown",
   "id": "672fc620-1de3-4546-a7e8-26fe50c77abd",
   "metadata": {},
   "source": [
    "Several important features of QR decomposition are visible, including that $\\mathbf{A}=\\mathbf{QR}$ and that $\\mathbf{Q}$ times its transpose gives the identity matrix.\n",
    "\n",
    "Notice that the $\\mathbf{R}$ matrix is upper-triangular, and it is always so, as we orthogonalize $v_n$ wrt $q_{n-1},q_{n-2}$ and so on, the matrix multiplication will produce a zero dot product for all $n$-positions lower than its own in the $\\mathbf{Q}^T \\mathbf{A}$ matrix."
   ]
  },
  {
   "cell_type": "markdown",
   "id": "107f5204-a5dd-46a8-911c-6444852b00b6",
   "metadata": {},
   "source": [
    "## Sizes of Q and R\n",
    "The sizes of $\\mathbf{Q}$ and $\\mathbf{R}$ depend on the size of matrix $\\mathbf{A}$ and on whether QR decomposition is 'economy'/'reduced' or 'full'/'complete'.\n",
    "\n",
    "'reduced' versus 'full' QR decomposition applies only to tall matrices. The question is: for a tall matrix $M\\gt N$, do we create a $\\mathbf{Q}$ matrix with $N$ columns or $M$ columns? The former is called the *economy* or *reduced*, and gives a tall $\\mathbf{Q}$; and the latter option is called *full* or *complete*, and gives a square $\\mathbf{Q}$.\n",
    "\n",
    "Where is $\\mathbf{Q}$ getting the additional orthogonal vectors from in case of the 'full' or 'complete' QR decomposition? \n",
    "\n",
    "Consider the following code:<br>\n",
    "```\n",
    "A = np.array([ [1,-1] ]).T\n",
    "Q,R = np.linalg.qr(A,'complete')\n",
    "Q*np.sqrt(2) # scaled by sqrt(2) to get integers\n",
    "```\n",
    "\n",
    "we will get the matrix:<br>\n",
    "$\\begin{bmatrix}-1&1\\\\ 1&1\\end{bmatrix}$\n",
    "\n",
    "Because it is possible to craft more than $M\\gt N$ orthogonal vectors from a matrix with $N$ columns, the rank of $\\mathbf{Q}$ is always the maximum possible rank, which is $M$ for all square $\\mathbf{Q}$ matrices, and $N$ for the economy $\\mathbf{Q}$. However the rank of $\\mathbf{R}$ is the same as that of $\\mathbf{A}$.\n",
    "\n",
    "The difference in rank between $\\mathbf{Q}$ and $\\mathbf{A}$ resulting from orthogonalization means that $\\mathbf{Q}$ spans all of $\\mathbb{R}^M$ even if the column space of $\\mathbf{A}$ is only a lower-dimensional subspace of $\\mathbb{R}^M$. This fact is why SVD is so useful for revealing the properties of a matrix, including its rank and nullspace.\n",
    "\n",
    "**NOTE** <br>\n",
    "QR decomposition is not unique for all matrix sizes and ranks, that is, it is possible to obtain $\\mathbf{A}=\\mathbf{Q}_1\\mathbf{R}_1$ and $\\mathbf{A}=\\mathbf{Q}_2\\mathbf{R}_2$ where $\\mathbf{Q}_1\\neq\\mathbf{Q}_2$. However, QR decomposition results have the same properties described here."
   ]
  },
  {
   "cell_type": "code",
   "execution_count": 26,
   "id": "73fc247f-e519-4253-9bce-3b369a5a1098",
   "metadata": {},
   "outputs": [
    {
     "name": "stdout",
     "output_type": "stream",
     "text": [
      "(40, 40) (40, 4)\n",
      "[[ 1.00000000e+00  3.87741509e-17 -2.58396480e-17 ...  4.07236878e-17\n",
      "   1.09142903e-17  1.38365932e-18]\n",
      " [ 3.87741509e-17  1.00000000e+00 -2.49398479e-17 ... -3.40838210e-17\n",
      "   1.21204657e-18 -3.16467647e-18]\n",
      " [-2.58396480e-17 -2.49398479e-17  1.00000000e+00 ... -5.59928379e-17\n",
      "  -8.31581953e-17  1.02402705e-16]\n",
      " ...\n",
      " [ 4.07236878e-17 -3.40838210e-17 -5.59928379e-17 ...  1.00000000e+00\n",
      "  -7.33583131e-18  7.43082280e-18]\n",
      " [ 1.09142903e-17  1.21204657e-18 -8.31581953e-17 ... -7.33583131e-18\n",
      "   1.00000000e+00  1.20644723e-17]\n",
      " [ 1.38365932e-18 -3.16467647e-18  1.02402705e-16 ...  7.43082280e-18\n",
      "   1.20644723e-17  1.00000000e+00]]\n"
     ]
    },
    {
     "data": {
      "image/png": "[encoded data removed]",
      "text/plain": [
       "<Figure size 1000x500 with 2 Axes>"
      ]
     },
     "metadata": {},
     "output_type": "display_data"
    }
   ],
   "source": [
    "A = np.random.rand(40,4)\n",
    "Q,R = np.linalg.qr(A,'complete')\n",
    "\n",
    "print(Q.shape,R.shape)\n",
    "\n",
    "fig,ax = plt.subplots(1,2,figsize=(10,5))\n",
    "ax[0].imshow(Q,'gray')\n",
    "ax[0].set_title('Q')\n",
    "ax[1].imshow(R,'gray')\n",
    "ax[1].set_title('R')\n",
    "\n",
    "print(Q.T@Q)"
   ]
  },
  {
   "cell_type": "markdown",
   "id": "4bde807e-d44b-4fe4-a2eb-b351a170201b",
   "metadata": {},
   "source": [
    "## QR and Inverses\n",
    "QR decomposition provides a more numerically stable way to compute the matrix inverse.\n",
    "\n",
    "$\\mathbf{A} = \\mathbf{QR}$<br>\n",
    "$\\mathbf{A}^{-1} = (\\mathbf{QR})^{-1}$<br>\n",
    "$\\mathbf{A}^{-1} = \\mathbf{R}^{-1}\\mathbf{Q}^{-1}$<br>\n",
    "$\\mathbf{A}^{-1} = \\mathbf{R}^{-1}\\mathbf{Q}^T$\n",
    "\n",
    "Thus we can obtain an inverse of $\\mathbf{A}$ as the inverse of $\\mathbf{R}$ times the transpose $\\mathbf{Q}$. $\\mathbf{Q}$ is numerically stable due to the Householder reflection algorithm, and $\\mathbf{R}$ is numerically stable because it simply results from matrix multiplication.\n",
    "\n",
    "We still need to invert $\\mathbf{R}$ explicitly, but inverting triangular matrices is highly numerically stable when done through a procedure called back substitution. \n",
    "\n",
    "Keep in mind though, that matrices that are theoretically invertible but are close to singular are still very difficult to invert; QR decomposition may be *more* numerically stable than the traditional algorithm, but it doesn't guarantee a high quality inverse."
   ]
  }
 ],
 "metadata": {
  "kernelspec": {
   "display_name": "Python 3 (ipykernel)",
   "language": "python",
   "name": "python3"
  },
  "language_info": {
   "codemirror_mode": {
    "name": "ipython",
    "version": 3
   },
   "file_extension": ".py",
   "mimetype": "text/x-python",
   "name": "python",
   "nbconvert_exporter": "python",
   "pygments_lexer": "ipython3",
   "version": "3.11.8"
  }
 },
 "nbformat": 4,
 "nbformat_minor": 5
}
