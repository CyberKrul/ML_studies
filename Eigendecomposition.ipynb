{
 "cells": [
  {
   "cell_type": "markdown",
   "id": "544516c4-5a80-4aac-9a3e-c38c035a097e",
   "metadata": {},
   "source": [
    "# Eigendecomposition\n",
    "Eigendecomposition has a geometric interpretation (axes of rotational invariance), a statistical interpretation (directions of maximal covariance, a dynamical systems interpretation (stable system states), a graph-theoretic interpretation (impact of a node on its network), and many more. \n",
    "\n",
    "Eigendecomposition is one of the most important contributions of linear algebra, and this chapter will provide you with an intuitive understanding of eigenvalues and eigenvectors- the results of eigendecomposition of a matrix. \n",
    "\n",
    "We'll also learn about diagonalization and more special properties of symmetric matrices. "
   ]
  },
  {
   "cell_type": "code",
   "execution_count": 12,
   "id": "e281a6de-0b3f-4121-b718-9184a4b1110f",
   "metadata": {},
   "outputs": [],
   "source": [
    "import numpy as np\n",
    "import matplotlib.pyplot as plt\n",
    "\n",
    "import pprint"
   ]
  },
  {
   "cell_type": "markdown",
   "id": "c3f370ef-ff0f-422f-93c9-c12bd8a6b4d0",
   "metadata": {},
   "source": [
    "## Interpretations of Eigenvalues and Eigenvectors\n",
    "There are several ways of interpreting these:\n",
    "\n",
    "### Geometry\n",
    "An eigenvector means that matrix-vector multiplication acts like scalar-vector multiplication. \n",
    "\n",
    "This means that the matrix stretched, but did not rotate- that vector. The vector is an eigenvector of the matrix, and the amount of stretching is the eigenvalue.\n",
    "\n",
    "The eigenvalue equation:\n",
    "\n",
    "$\\mathbf{A}v=\\lambda v$\n",
    "\n",
    "Note: it does not say that the matrix equals the scalar: just that the effect of the matrix on the vector is the same as the effect of the scalar on that same vector.\n",
    "\n",
    "This is the eigenvalue equation, and it's another key formula in linear algebra.\n",
    "\n",
    "### Statistics (PCA)\n",
    "One of the reasons people use statistics is to identify and quantify relationships between variables. \n",
    "\n",
    "In a multivariate dataset that includes dozens or hundreds of variables, bivariate correlation cannot reveal global patterns.\n",
    "\n",
    "Consider cryptocurrencies- there are tens of thousands of other cryptocurrencies that have various purposes. We can ask whether the entirety of the crypto space operates as a single system (meaning they all go up and down together), or whether there are independent subcategories within that space (some coins or groups of coins change in value independently of the value of other coins).\n",
    "\n",
    "We can test this hypothesis by performing a PCA on a dataset that contains the prices of various cryptocurrencies over time. If the entire crypto market operates as a single entity, then the screen plot (a graph of the eigenvalues of the dataset's covariance matrix) would reveal that one component accounts for most of the variance of the system, and all other components account for very little variance. \n",
    "\n",
    "In contrast, if the crypto market had say, three major subcategories with independent price movements, then we would expect to see three large eigenvalues.\n",
    "\n",
    "### Noise Reduction\n",
    "Most datasets contain noise. *Noise* refers to variance in a dataset that is either unexplained (random variation) or unwanted (electrical line noise). There are many ways to attenuate or eliminate noise, and the optimal noise-reduction strategy depends on the nature and origin of the noise and on the characteristics of the signal.\n",
    "\n",
    "One method of reducing random noise is to identify the eigenvalues and eigenvectors of a system, and 'project out' directions in the data space associated with small eigenvalues. The assumption is that random noise makes a relatively small contribution to the total variance. 'Projecting out' a data dimension means reconstructing a dataset after setting some eigenvalues that are below some threshold to zero.\n",
    "\n",
    "### Dimension Reduction (Data Compression)\n",
    "Information Communication technologies create and transmit a huge amount of data, such as pictures and videos. Transmitting data can be time-consuming and expensive, and it is beneficial to compress the data before transmitting it. Compression means to reduce the size of the data while having minimal impact on the quality of the data.\n",
    "\n",
    "eg- TIFF format image file might be 10MB, while the JPG converted version might be .1 MB while still retaining reasonably high quality.\n",
    "\n",
    "One way to dimension reduce a dataset is to take its eigendecomposition, drop the eigenvalues and eigenvectors associated with small directions in the data space, and then transmit only the relatively larger eigenvector/value pairs. (SVD is usually used for data compression)."
   ]
  },
  {
   "cell_type": "markdown",
   "id": "9164eeb7-ada0-43e6-8f3d-7834dd9fed4b",
   "metadata": {},
   "source": [
    "## Finding Eigenvalues\n",
    "To eigendecompose a square matrix, you first find the eigenvalues and then use each eigenvalue to find its corresponding eigenvector. The eigenvalues are like keys that you insert into the matrix to unlock the mystical eigenvectors.\n",
    "\n",
    "To find the eigenvalues of a matrix, we start with the eigenvalue equation:\n",
    "\n",
    "$\\mathbf{A}v=\\lambda v$<br>\n",
    "$\\mathbf{A}v-\\lambda v=0$<br>\n",
    "$(\\mathbf{A}-\\lambda\\mathbf{I})v=0$\n",
    "\n",
    "The left-hand side of the second equation has two vector terms, both of which involve $v$. So we factor out the vector. But that leaves us with the subtraction of a matrix and a scalar ($\\mathbf{A}-\\lambda$), which is not a defined operation in linear algebra. So instead we *shift* the matrix by $\\lambda$. That brings us to the third equation.\n",
    "\n",
    "It means that *the eigenvector is in the null space of the matrix shifted by its eigenvalue*\n",
    "\n",
    "We can show the concept of the eigenvector as the null space vector of the shifted matrix:\n",
    "\n",
    "$\\tilde{\\mathbf{A}}=\\mathbf{A}-\\lambda \\mathbf{I}$<br>\n",
    "$\\tilde{\\mathbf{A}}v=0$\n",
    "\n",
    "This is insightful, as we do not consider $v=0$ to be an eigenvector (trivial solution). This means that the matrix shifted by its eigenvalue is singular because only singular matrices have a non-trivial null space.\n",
    "\n",
    "The determinant of the matrix is zero, therefore:\n",
    "\n",
    "$\\lvert \\mathbf{A}-\\lambda\\mathbf{I}\\rvert=0$\n",
    "\n",
    "This is the key to finding the eigenvalues: shift the matrix by the unknown eigenvalue $\\lambda$ set its determinant to zero, and solve for $\\lambda$.\n",
    "\n",
    "We will see the process for a $2\\times 2$ matrix:\n",
    "\n",
    "$\\Bigg \\lvert \\begin{bmatrix}a&b\\\\ c&d\\end{bmatrix}-\\lambda\\begin{bmatrix}1&0\\\\ 0&1\\end{bmatrix}\\Bigg\\rvert=0$\n",
    "<br>\n",
    "$\\begin{vmatrix}a-\\lambda &b\\\\ c&d-\\lambda\\end{vmatrix}=0$<br>\n",
    "$(a-\\lambda)(d-\\lambda)-bc=0$<br>\n",
    "$\\lambda-(a+d)\\lambda +(ad-bc)=0$\n",
    "\n",
    "The quadratic formula can be applied to find the two $\\lambda$ values. Let's look at the logical progression of mathematical concepts established in the book:\n",
    "\n",
    "- The matrix-vector multiplication acts like scalar-vector multiplication (the eigenvalue equation)\n",
    "- We set the eigenvalue equation to the zeros vector and factor out common terms.\n",
    "- This reveals that the eigenvector is in the null space of the matrix shifted by the eigenvalues. We do not consider the zeros vector to be an eigenvector, which means the shifted matrix is singular.\n",
    "- therefore, we set the determinant of the shifted matrix to zero and solve for the unknown  eigenvalue.\n",
    "\n",
    "The determinant of an eigenvalue-shifted matrix set to zero is called the *characteristic polynomial* of the matrix.\n",
    "\n",
    "The characteristic polynomials of an $M\\times M$ matrix will have an $\\lambda^M$ term. So an $M\\times M$ matrix will have $M$ eigenvalues."
   ]
  },
  {
   "cell_type": "code",
   "execution_count": 4,
   "id": "9891028f-5b59-4872-8280-41939ef478fc",
   "metadata": {},
   "outputs": [
    {
     "data": {
      "text/plain": [
       "array([-0.37228132,  5.37228132])"
      ]
     },
     "execution_count": 4,
     "metadata": {},
     "output_type": "execute_result"
    }
   ],
   "source": [
    "matrix = np.array([[1,2],[3,4]])\n",
    "\n",
    "#get the eigenvalues\n",
    "evals = np.linalg.eig(matrix)\n",
    "evals[0]"
   ]
  },
  {
   "cell_type": "markdown",
   "id": "a5d0020d-2a2f-4318-a9fc-3916d5cf6b4c",
   "metadata": {},
   "source": [
    "## Finding Eigenvectors\n",
    "We can find eigenvectors in Python as :\n",
    "\n",
    "```\n",
    "evals,evecs = np.linalg.eig(matrix)\n",
    "```\n",
    "\n",
    "The eigenvectors are in the columns of the matrix `evecs` and are in the same order as the eigenvalues (that is, the eigenvector in the first column of matrix `evecs` is paried with the first eigenvalue in vector `evals`)\n",
    "\n",
    "**Eigenvectors are in the columns, not the rows!**\n",
    "The eigenvectors are stored in the columns of the matrix, not the rows. Remember, the common convention in linear algebra is to assume that vectors are in column orientation.\n",
    "\n",
    "We need to find the vector $v$ that is in the nullspace of the matrix shifted by $\\lambda$. In other words,\n",
    "\n",
    "$v_i\\in N(\\mathbf{A}-\\lambda_i \\mathbf{I})$\n",
    "\n",
    "Here is an example:\n",
    "\n",
    "$\\begin{bmatrix}1&2\\\\ 2&1\\end{bmatrix} => \\lambda_1=3,\\lambda_2=-1$\n",
    "\n",
    "Focus on the first eigenvalue- To reveal its eigenvector, we shift the matrix by 3 and find a vector in its null space.\n",
    "\n",
    "$\\begin{bmatrix}1-3&2\\\\ 2&1-3\\end{bmatrix}=\\begin{bmatrix}-2&2\\\\ 2&-2\\end{bmatrix} => \\begin{bmatrix}-2&2\\\\ 2&-2\\end{bmatrix}\\begin{bmatrix}1\\\\1\\end{bmatrix}=\\begin{bmatrix}0\\\\0\\end{bmatrix}$\n",
    "\n",
    "This means that $[1,1]$ is an eigenvector of the matrix associated with an eigenvalue of 3.\n",
    "\n",
    "Null-space vectors can be found using Gauss-Jordan to solve a system of equations, where the coefficients matrix is the $\\lambda$-shifted matrix and the constants vectors is the zeros vector. That's a way to conceptualize the solution. In practice, more practial ways are used, including QR decomposition and the power method."
   ]
  },
  {
   "cell_type": "markdown",
   "id": "a2157357-b177-4257-9295-81e7665668df",
   "metadata": {},
   "source": [
    "### Sign and Scale of Indeterminacy of Eigenvectors\n",
    "Consider the above example, where we found $[1,1]$ as the eigenvector for the matrix shifted by eigenvalue, 3.\n",
    "\n",
    "But $[1,1]$ is not the only solution basis vector for the null space. $[4,4]$,$[-5.4,-5.4]$ can be used as well. Any scaled version of vector $[1,1]$ is a basis for that null space. In other words, if $v$ is an eigenvector of the matrix, then so is $\\alpha v$ for any real-valued $\\alpha$ except zero.\n",
    "\n",
    "**Eigenvectors are important for their direction, not their magnitude**\n",
    "\n",
    "The infinity of null space leads to two questions:\n",
    "\n",
    "- is there one 'best' possible basis vector? There is no best basis vector, but it is convenient to have them normalized (Euclidean norm of one).\n",
    "- What is the 'correct' sign of an eigenvector? There is none. You can get different eigenvector signs from the same matrix when using different versions of NumPy. Eigenvector sign indeterminacy is just a feature of life. In applications such as PCA, there are principled ways for assigning a sign, but that's just a common convention to facilitate comprehension"
   ]
  },
  {
   "cell_type": "markdown",
   "id": "dffc2532-0640-4cd4-ae4c-23deeedc57ad",
   "metadata": {},
   "source": [
    "## Diagonalizing a Square Matrix\n",
    "The eigenvalue equation lists one eigenvalue and one eigenvector. This means that an $M\\times M$ matrix has $M$ eigenvalue equations:\n",
    "\n",
    "$\\begin{array}\\mathbf{A}v_1=\\lambda_1v_1\\\\\n",
    ".\\\\.\\\\.\\\\\n",
    "\\mathbf{A}v_M = \\lambda_M v_M\n",
    "\\end{array}$\n",
    "\n",
    "We can transform this into something more compact and efficient\n",
    "\n",
    "The key insight for writing out the matrix eigenvalue equation is that each column of the eigenvectors matrix is scaled by exactly on eigenvalue. We can implement this through postmultiplication by a diagonal matrix (remember it scales the columns).\n",
    "\n",
    "So instead of storing the eigenvalues in a vector, we store the eigenvalues in the diagonal of a matrix. The following equation shows the form of diagonalization for a $3\\times 3$ matrix. \n",
    "\n",
    "In the eigenvectors matrix, the first subscript corresponds to the eigenvector, and the second to the eigenvector element. The $@$ symbol is used in place of the numerical values.\n",
    "\n",
    "$\\begin{bmatrix}@&@&@\\\\ @&@&@\\\\ @&@&@\\end{bmatrix}\\begin{bmatrix}v_{11}&v_{21}&v_{31}\\\\ v_{12}&v_{22}&v_{32}\\\\ v_{13}&v_{23}&v_{33}\\end{bmatrix}=\\begin{bmatrix}v_{11}&v_{21}&v_{31}\\\\ v_{12}&v_{22}&v_{32}\\\\ v_{13}&v_{23}&v_{33}\\end{bmatrix}\\begin{bmatrix}\\lambda_1&0&0\\\\ 0&\\lambda_2&0\\\\ 0&0&\\lambda_3\\end{bmatrix}$\n",
    "\n",
    "$=\\begin{bmatrix}\\lambda_1v_{11}&\\lambda_2 v_{21}&\\lambda_3 v_{31}\\\\ \\lambda_1 v_{12}&\\lambda_2 v_{22}&\\lambda_3 v_{32}\\\\ \\lambda_1 v_{13}&\\lambda_2 v_{23}&\\lambda_3 v_{33}\\end{bmatrix}$\n",
    "\n",
    "More generally, the matrix eigenvalue equation- aka the diagonalization of a square matrix- is:\n",
    "\n",
    "$\\mathbf{AV}=\\mathbf{V\\Lambda}$\n",
    "\n",
    "We can rearrange this equation to get $\\mathbf{A}$ in terms of $\\mathbf{V,\\Lambda}$ and $\\mathbf{V}^{-1}$.\n",
    "\n",
    "$\\mathbf{AV} = \\mathbf{V\\Lambda}$<br>\n",
    "$\\mathbf{A}=\\mathbf{V\\Lambda V}^{-1}$, to find the original matrix<br>\n",
    "$\\mathbf{\\Lambda} = \\mathbf{V}^{-1}\\mathbf{AV}$, to find the eigenvalue diagonal matrix\n",
    "\n",
    "The second equation shows that matrix $\\mathbf{A}$ becomes diagonal inside the space of $\\mathbf{V}$(that is, $\\mathbf{V}$ moves us into the 'diagonal' space and then $\\mathbf{V}^{-1}$ gets us back out of the diagonal space). This can be interpreted in the context of basis vectors: the matrix $\\mathbf{A}$ is dense in the standard basis, but then we apply a set of transformations ($\\mathbf{V}$) to rotate the matrix into a new set of basis vectors (the eigenvectors) in which the information is sparse and represented by a diagonal matrix.  At the end of the equation, we need to get back into the standard basis space, hence the $\\mathbf{V}^{-1}$"
   ]
  },
  {
   "cell_type": "code",
   "execution_count": 18,
   "id": "da47310f-2716-456c-aaf9-9bf9438ff623",
   "metadata": {},
   "outputs": [
    {
     "name": "stdout",
     "output_type": "stream",
     "text": [
      "[[ 98.1   0.   -0.   -0. ]\n",
      " [ -0.   19.3  -0.   -0. ]\n",
      " [ -0.   -0.  -16.3  -0. ]\n",
      " [  0.   -0.    0.   -4.2]]\n",
      "\n",
      "[[ 98.1   0.    0.    0. ]\n",
      " [  0.   19.3   0.    0. ]\n",
      " [  0.    0.  -16.3   0. ]\n",
      " [  0.    0.    0.   -4.2]]\n"
     ]
    }
   ],
   "source": [
    "np.random.seed(34)\n",
    "A =np.random.randint(10,40,(4,4))\n",
    "evals,evecs = np.linalg.eig(A)\n",
    "D = np.diag(evals)\n",
    "# print(A,D,evecs)\n",
    "# evecs@D@np.linalg.inv(evecs)\n",
    "print(np.around(np.linalg.inv(evecs)@A@evecs,1),np.around(D,1),sep='\\n\\n')"
   ]
  },
  {
   "cell_type": "markdown",
   "id": "b127d388-3a91-4097-be32-a0a5d1bd37ad",
   "metadata": {},
   "source": [
    "## The Special Properties of Symmetric Matrices\n",
    "We will see two special properties of symmetric matrices that relate to eigendecomposition.\n",
    "\n",
    "### Orthogonal Eigenvectors\n",
    "Symmetric matrices have orthogonal eigenvectors. That means that all eigenvectors of a symmetric matrix are pair-wise orthogonal.\n",
    "\n",
    "The orthogonal eigenvector property means that the dot product between any pair of eigenvectors is zero, while the dot product of an eigenvector with itself is nonzero (remember, we don't take the zeros vector to be an eigenvector). This can be written as $\\mathbf{V}^T\\mathbf{V}=\\mathbf{D}$ where $\\mathbf{D}$ is a diagonal matrix with the diagonals containing the norms of the eigenvectors.\n",
    "\n",
    "Recall that eigenvectors are important because of their direction- not because of their magnitude. So an eigenvector can have any magnitude we want.\n",
    "\n",
    "So, we scale all eigenvectors so they have unit length. So now, if all eigenvectors are orthogonal, and have unit length, when we multiply an eigenvectors matrix by its transpose, we get:\n",
    "\n",
    "$\\mathbf{V}^T\\mathbf{V}=\\mathbf{I}$\n",
    "\n",
    "So we see that the eigenvectors matrix of a symmetric matrix is an orthogonal matrix. This has multiple implications for DS, including that the eigenvectors are super easy to invert.\n",
    "\n",
    "We will now prove the orthogonal eigenvectors of symmetric matrices.\n",
    "\n",
    "The goal of this proof is to show that the dot product between any pair of eigenvectors is zero.\n",
    "\n",
    "We start with two assumptions:\n",
    "1. matrix $\\mathbf{A}$ is symmetric,\n",
    "2. $\\lambda_1$ and $\\lambda_2$ are distinct eigenvalues of $\\mathbf{A}$ with $v_1$ and $v_2$ as their corresponding eigenvectors.\n",
    "\n",
    "$\\lambda_1v_1^Tv_2 = (\\mathbf{A}v_1)^Tv_2 = v_1^T\\mathbf{A}^Tv_2 =v_1^T\\lambda_2v_2=\\lambda_2v_1^Tv_2$\n",
    "\n",
    "The terms in the middle are just transformations.\n",
    "\n",
    "$\\lambda_1v_1^Tv_2=\\lambda_2v_1^Tv_2$<br>\n",
    "$\\lambda_1v_1^Tv_2-\\lambda_2v_1^Tv_2=0$\n",
    "\n",
    "Both terms contain the dot product $v_1^Tv_2$, which can be factored out. This brings us to:\n",
    "\n",
    "$(\\lambda_1-\\lambda_2)v_1^Tv_2=0$\n",
    "\n",
    "This final equation says that two quantities multiply to produce 0, which means that one or both of those quantities must be zero. $(\\lambda_1-\\lambda_2)$ cannot equal zero because the eigenvalues are distinct by assumption. Therefore $v_1^Tv_2$ must equal zero, which means that the two eigenvectors are orthogonal.\n",
    "\n",
    "Thus, the eigenvectors of a nonsymmetric matrix are not constrained to be orthogonal (they will be linearly independent for all distinct eigenvalues)"
   ]
  },
  {
   "cell_type": "code",
   "execution_count": 149,
   "id": "f0c7fd32-f9f7-4f26-9c2b-5f045094c0a8",
   "metadata": {},
   "outputs": [
    {
     "data": {
      "text/plain": [
       "array([[ 1.00000000e+00,  0.00000000e+00,  5.55111512e-17,\n",
       "        -2.77555756e-17],\n",
       "       [ 0.00000000e+00,  1.00000000e+00, -1.38777878e-16,\n",
       "         6.93889390e-17],\n",
       "       [ 5.55111512e-17, -1.38777878e-16,  1.00000000e+00,\n",
       "         2.77555756e-16],\n",
       "       [-2.77555756e-17,  6.93889390e-17,  2.77555756e-16,\n",
       "         1.00000000e+00]])"
      ]
     },
     "execution_count": 149,
     "metadata": {},
     "output_type": "execute_result"
    }
   ],
   "source": [
    "A = np.random.randn(4,4)\n",
    "As = A.T@A\n",
    "\n",
    "#eigendecomposition\n",
    "evals,evecs = np.linalg.eig(As)\n",
    "\n",
    "#all pairwise products\n",
    "evecs.T@evecs"
   ]
  },
  {
   "cell_type": "markdown",
   "id": "98c37944-392f-47f1-926c-e3bb078c226c",
   "metadata": {},
   "source": [
    "### Real-Valued Eigenvalues\n",
    "A second special property of symmetric matrices is that they have real-valued eigenvalues (and therefore, real-valued eigenvectors).\n",
    "\n",
    "Complex-valued solutions come in conjugate pairs. That means that if there is a $\\lambda_j=a+ib$, there is a $\\lambda_k=a-ib$. Their correspondence eigenvectors are also complex conjugate pairs.\n",
    "\n",
    "Symmetric matrices are guaranteed to have real-valued eigenvalues, and therefore also real-valued eigenvectors. "
   ]
  },
  {
   "cell_type": "markdown",
   "id": "d7ee36ec-9e1e-4297-a33d-657333bcb66c",
   "metadata": {},
   "source": [
    "## Eigendecomposition of Singular Matrices\n",
    "Eigendecomposition of singular matrices is perfectly fine.\n",
    "\n",
    "The one special property of the eigendecomposition of singular matrices is that at least one eigenvalue is guaranteed to be zero. That doesn't mean that the number of non-zero eigenvalues equals the rank of the matrix- that's true for singular values, but not for eigenvalues. But if the matrix is singular, then at least one eigenvalue equals zero.\n",
    "\n",
    "the converse is also true- every full-rank matrix has zero zero-valued eigenvalues.\n",
    "\n",
    "One explanation for why that happens is that a singular matrix already has a non-trivial null space, which means that $\\lambda=0$ provides a non-trivial solution to the equation $(\\mathbf{A}-\\lambda\\mathbf{I})v=0$. The eigenvector associated with $\\lambda=0$ is the normalized vector, which is the linear weighted combination of the columns or rows that produces the zero vector.\n",
    "\n",
    "the main takeaways of this section are:\n",
    "1. eigendecomposition is valid for reduced-rank matrices\n",
    "2. the presence of at least one zero-valued eigenvalue indicated a reduced-rank matrix.\n"
   ]
  },
  {
   "cell_type": "markdown",
   "id": "13f10707-58fb-46f8-86c7-b9c7cdc60851",
   "metadata": {},
   "source": [
    "### Quadratic Form, Definiteness, and Eigenvalues\n",
    "\n",
    "### The Quadratic form of a matrix\n",
    "Consider the following expression:\n",
    "\n",
    "$w^T\\mathbf{A}w=\\alpha$\n",
    "\n",
    "In other words, we pre- and post-multiply a square matrix by the same vector $w$ and get a scalar.\n",
    "\n",
    "This is called the *quadratic form* on matrix $\\mathbf{A}$\n",
    "\n",
    "Which matrix and which vector do we use? The idea of the quadratic form is to use one specific matrix and the set of all possible vectors. The important question concerns the signs of $\\alpha$ for all possible vectors. \n",
    "\n",
    "Here is an example:\n",
    "\n",
    "$\\begin{bmatrix}x&y\\end{bmatrix}\\begin{bmatrix}2&4\\\\0&3\\end{bmatrix}\\begin{bmatrix}x\\\\ y\\end{bmatrix}=2x^2+(0+4)xy+3y^2$\n",
    "\n",
    "For this possible matrix, there is no possible combination of $x$ and $y$ that can give a negative answer, because the squared terms ($2x^2$ and $3y^2$) will always overpower the cross-term $4xy$ even when $x$ and $y$ is negative. Further, $\\alpha$ can be nonpositive only when $x=y=0$.\n",
    "\n",
    "That is not a trivial result of the quadratic form: for example, the following matrix can have a positive or negative $\\alpha$ depending on the values of $x$ and $y$\n",
    "\n",
    "$\\begin{bmatrix}x&y\\end{bmatrix}\\begin{bmatrix}-9&4\\\\3&9\\end{bmatrix}\\begin{bmatrix}x\\\\ y\\end{bmatrix}=-9x^2+(3+4)xy+9y^2$\n",
    "\n",
    "How can we know whether the quadratic form will produce a positive scalar for all possible vectors? The key comes from considering that a full-rank eigenvectors matrix spans all of $\\mathbf{R}^M$, and therefore that every vector in $\\mathbf{R}^M$ can be expressed as some linear weighted combination of the eigenvectors. Then we start from the eigenvalue equation and left-multiply it by an eigenvector to return to the quadratic form.\n",
    "\n",
    "$\\mathbf{A}v=\\lambda v$<br>\n",
    "$v^T\\mathbf{A}v=\\lambda v^Tv$<br>\n",
    "$v^T\\mathbf{A}v=\\lambda\\lVert v\\rVert ^2$\n",
    "\n",
    "the final equation is key- notice that $\\lVert v^Tv\\rVert$ is strictly positive, which means that the eigenvalue $\\lambda$ entirely determines the sign of the right-hand side of the equation.\n",
    "\n",
    "The equation uses only one eigenvalue and its eigenvector, but we need to know about any possible vector. The insight is to consider that if the equation is valid for each eigenvector-eigenvalue pair, it is valid for any combination of eigenvector-eigenvalue pairs.\n",
    "\n",
    "$v_1^T\\mathbf{A}v_1=\\lambda_1\\lVert v_1\\rVert^2$<br>\n",
    "$v_2^T\\mathbf{A}v_2=\\lambda_2\\lVert v_2\\rVert^2$<br>\n",
    "$(v_1+v_2)^T\\mathbf{A}(v_1+v_2)=(\\lambda_1+\\lambda_2)\\lVert (v_1+v_2)\\rVert^2$<br>\n",
    "$u^T\\mathbf{A}u=\\zeta\\lVert u\\rVert^2$\n",
    "\n",
    "So, we can set any vector $u$ to be some linear combination of eigenvectors, and some scalar $\\zeta$ to be that same linear combination of eigenvalues. Anyway, it doesn't change the principle that the sign of the right-hand side- and therefore also the sign of the quadratic form- is determined by the sign of the eigenvalues\n",
    "\n",
    "Think about these equations under different assumptions about the signs of the $\\lambda$s.\n",
    "\n",
    "- *All eigenvalues are positive*<br> The right-hand side of the equation is always positive, meaning that $v^T\\mathbf{A}v$ is always positive for any vector $v$.\n",
    "- *Eigenvalues are positive or zero*<br> $v^T\\mathbf{A}v$ is nonnegative and will equal zero when $\\lambda=0$ (which happens when matrix is singular)\n",
    "- *Eigenvalues are negative or zero*<br> The quadratic form result will be zero or negative\n",
    "- *Eigenvalues are negative*<br> The quadratic form result will be negative for all vectors"
   ]
  },
  {
   "cell_type": "code",
   "execution_count": 58,
   "id": "ca859f13-be50-4aac-8392-c9551892f5c4",
   "metadata": {},
   "outputs": [
    {
     "name": "stdout",
     "output_type": "stream",
     "text": [
      "1.0\n",
      "-5.930390463509718\n",
      "-5.930390463509715\n",
      "-3.138415436857403 -3.138415436857402\n",
      "-0.745840084438789 -0.7458400844387886\n",
      "0.9953388977754914 0.9953388977754917\n",
      "0.39355102852952323 0.3935510285295231\n"
     ]
    }
   ],
   "source": [
    "np.random.seed(33)\n",
    "A = np.random.randn(4,4)\n",
    "\n",
    "L,V = np.linalg.eig(A)\n",
    "x,y = 1,3\n",
    "\n",
    "v = V[:,x]*3+V[:,y]*3\n",
    "l = L[x]+L[y]\n",
    "print(v.T@A@v)\n",
    "print((l*np.linalg.norm(v)**2)/2)\n",
    "\n",
    "for x in range(0,4):\n",
    "    print(V[:,x].T@A@V[:,x],L[x]*np.linalg.norm(V[:,x])**2)"
   ]
  },
  {
   "cell_type": "markdown",
   "id": "08b5ec91-2707-4f2a-a57f-02ca2b5fedfe",
   "metadata": {},
   "source": [
    "## Definiteness\n",
    "*Definiteness* is a characteristic of a square matrix and is defined by the signs of the eigenvalues of the matrix, which is the same thing as the signs of the quadratic form results.\n",
    "\n",
    "Definiteness has implications for the invertibility of a matrix as well as advanced data analysis methods such as generalized eigendecomposition.\n",
    "\n",
    "There are five categories of definiteness:\n",
    "\n",
    "|Category|Quadratic Form|Eigenvalues|Invertible|\n",
    "|--------|--------------|-----------|----------|\n",
    "|Positive definite|Positive|+|Yes|\n",
    "|Positive semidefinite|Nonnegative|+ and 0| No|\n",
    "|Indefinite|Positive and Negative|+ and -|Depends|\n",
    "|Negative semidefinite|Nonpositive|- and 0|No|\n",
    "|Negative definite|Negative|-|Yes|\n",
    "\n",
    "Depends in the table means that the matrix can be invertible or singular depending on the numbers in the matrix, not on the definiteness category.\n",
    "\n",
    "### $\\mathbf{A}^T\\mathbf{A}$ is Positive (semi)Definite\n",
    "Any matrix that can be expressed as the product of a matrix and its transpose is guaranteed to be positive definite or positive semi-definite. The combination of these two categories is often written as 'positive semi-definite'\n",
    "\n",
    "All data covariance matrices are positive semi-definite because they are defined as the data matrix times its transpose. This means that all covariances matrices have nonnegative eigenvalues. The eigenvalues will be all positive when the data matrix is full-rank, and there will be at least one zero-valued eigenvalue if the data matrix is reduced-rank.\n",
    "\n",
    "The proof that $\\mathbf{S}$ is positive semi-definite comes from writing out its quadratic form and applying some algebraic manipulations. \n",
    "\n",
    "$w^T\\mathbf{S}w=w^T(\\mathbf{A}^T\\mathbf{A})w$<br>\n",
    "$=(w^T\\mathbf{A}^T)(\\mathbf{A}w)$<br>\n",
    "$=(\\mathbf{A}w)^T(\\mathbf{A}w)$<br>\n",
    "$=\\lVert \\mathbf{A}w\\rVert^2$\n",
    "\n",
    "The point is that the quadratic form of $\\mathbf{A}^T\\mathbf{A}$ equals the squared magnitude of a matrix times a vector. Magnitudes cannot be negative, and can be zero only when the vector is zero. And if $\\mathbf{A}w=0$ for a nontrivial $w$, then $\\mathbf{A}$ is singular."
   ]
  },
  {
   "cell_type": "markdown",
   "id": "6edd2cc6-da27-4ada-94ef-c0d4be4f422b",
   "metadata": {},
   "source": [
    "## Generalized Eigendecomposition\n",
    "The following equation is the same as the fundamental eigenvalue equation:\n",
    "\n",
    "$\\mathbf{A}v=\\lambda\\mathbf{I}v$\n",
    "\n",
    "This is obvious because $\\mathbf{I}v=v$. Generalized eigendecomposition involves replacing the identity matrix with another matrix.\n",
    "\n",
    "$\\mathbf{A}v=\\lambda\\mathbf{B}v$\n",
    "\n",
    "Generalized eigendecomposition is also called *simultaneous diagonalization of two matrices*. The resulting $(\\lambda,v)$ is not an eigenvalue-vector of $\\mathbf{A}$ alone nor of $\\mathbf{B}$ alone. Instead, the two matrices share eigenvalue-vector pairs.\n",
    "\n",
    "Conceptually, you can think of generalized eigendecomposition as the 'regular' eigendecomposition of a product matrix:\n",
    "\n",
    "$\\mathbf{C}=\\mathbf{AB}^{-1}$<br>\n",
    "$\\mathbf{C}v=\\lambda v$\n",
    "\n",
    "This is just conceptual; in practice, generalized eigendecomposition does not require $\\mathbf{B}$ to be invertible.\n",
    "\n",
    "It is not the case that any two matrices can be simultaneously diagonalized. But this diagonalization is possible if $\\mathbf{B}$ is positive semi-definite.\n",
    "\n",
    "Scipy can compute generalized eigendecomposition.\n",
    "\n",
    "In data science, generalized eigendecomposition is used in classification analysis. In particular, Fisher's linear discriminant analysis is based on generalized eigendecomposition of two data covariance matrices"
   ]
  },
  {
   "cell_type": "markdown",
   "id": "a455d373-7fbb-49a8-b23d-0784df315c82",
   "metadata": {},
   "source": [
    "## Summary\n",
    "1. Eigendecomposition identifies $M$ scalar/vector pairs of an $M\\times M$ matrix. Those pairs of eigenvalue/eigenvector reflect special directions in the matrix and have many applications in data science (PCA being a common one)\n",
    "2. Eigenvalues are found by assumign that the matrix shifted by an unknown scalar $\\lambda$ is singular, setting its determinant to zero (called the characteristic polynomial), and solving for $\\lambda$s\n",
    "3. *Diagonalizing* a matrix means to represent it as $\\mathbf{V}^{-1}\\mathbf{\\Lambda V}$, where $\\mathbf{V}$ is a matrix with eigenvectors in the columns an $\\Lambda$ is a diagonal matrix with eigenvalues in the diagonal elements.\n",
    "4. Symmetric matrices have several special properties in eigendecompositions, the most relevant being:\n",
    "   - all eigenvectors are pair-wise orthogonal.\n",
    "   - This means that the matrix of eigenvectors is an orthogonal matrix (when the eigenvectors are unit normalized), which in turn means that the inverse of the eigenvectors matrix is its transpose\n",
    "5. The *definiteness* of a matrix refers to  the signs of its eigenvalues. In Data Science, the most relevant categories are positive (semi) definite, which means that all eigenvalues are either nonnegative or positive\n",
    "6. A matrix times its transpose is always positive (semi) definite, which means all covariance matrices have non-negative eigenvalues\n",
    "7. the product of the eigenvalues equals the determinant\n",
    "8. Not all square matrices can be diagonalized; some have repeated eigenvalues, which has implications for their eigenvectors;"
   ]
  },
  {
   "cell_type": "markdown",
   "id": "5bcb10d0-582b-4fa1-963a-99356af6bda6",
   "metadata": {},
   "source": [
    "$Av = \\lambda v$\n",
    "\n",
    "$A^{-1}v=\\lambda v$\n",
    "\n",
    "$AA^{-1}v=\\lambda Av$\n",
    "\n",
    "$Iv = \\lambda Av$\n",
    "\n",
    "$\\frac{1}{\\lambda}Iv=Av$\n",
    "\n",
    "$Av = \\frac{1}{\\lambda}Iv$\n",
    "\n",
    "$Av = \\tilde{\\lambda}Iv$\n",
    "\n",
    "Therefore, the eigenvectors will be the same, and the $\\lambda$ values will simply be the inverse of the $\\lambda$ of the original matrix"
   ]
  },
  {
   "cell_type": "code",
   "execution_count": 57,
   "id": "6ebb50b6-e1cb-4aa7-8dbc-8100bdcdaa6f",
   "metadata": {},
   "outputs": [],
   "source": [
    "# Ex 13-1\n",
    "A = np.random.randn(5,5)\n",
    "A = A.T@A\n",
    "\n",
    "evals, evecs =  np.linalg.eig(A)\n",
    "\n",
    "Ainv = np.linalg.inv(A)\n",
    "\n",
    "evali, eveci = np.linalg.eig(Ainv)"
   ]
  },
  {
   "cell_type": "code",
   "execution_count": 61,
   "id": "dbe1c104-c718-4151-9a8c-65c969e78f0b",
   "metadata": {},
   "outputs": [
    {
     "name": "stdout",
     "output_type": "stream",
     "text": [
      "[[-0.4 -0.3  0.5 -0.7 -0.2]\n",
      " [ 0.3 -0.8  0.1  0.4 -0.4]\n",
      " [-0.   0.5  0.2  0.1 -0.9]\n",
      " [ 0.2 -0.1 -0.8 -0.5 -0.3]\n",
      " [-0.8 -0.2 -0.4  0.3 -0.1]]\n",
      "[[-0.1  0.2  0.4 -0.6 -0.6]\n",
      " [ 0.1  0.8 -0.3 -0.3  0.4]\n",
      " [ 0.6  0.3  0.6  0.4 -0. ]\n",
      " [-0.7  0.5  0.   0.5 -0.3]\n",
      " [-0.4 -0.1  0.6 -0.2  0.6]]\n"
     ]
    }
   ],
   "source": [
    "# print(np.around(evals,2),np.around(1/evali,2)) #4 5 1 3 2\n",
    "print(np.around(evecs,1),np.around(evcinv,1),sep='\\n')"
   ]
  },
  {
   "cell_type": "markdown",
   "id": "c65b2bc1-ebf5-434c-bb28-b97db1603e1f",
   "metadata": {},
   "source": [
    "Re-create the left-side panel of Figure 13-1, but using the rows of $V$ instead of\n",
    "columns. Of course you know that this is a coding error, but the results are insightful:\n",
    "it fails the geometry test that the matrix times its eigenvector only stretches."
   ]
  },
  {
   "cell_type": "code",
   "execution_count": 130,
   "id": "7b7d503e-faf2-4177-a873-a36374c438c9",
   "metadata": {},
   "outputs": [
    {
     "name": "stdout",
     "output_type": "stream",
     "text": [
      "[0.98312625 1.79037864]\n"
     ]
    },
    {
     "data": {
      "image/png": "[encoded data removed]",
      "text/plain": [
       "<Figure size 640x480 with 1 Axes>"
      ]
     },
     "metadata": {},
     "output_type": "display_data"
    }
   ],
   "source": [
    "M = np.random.randn(2,2)\n",
    "M = M.T@M\n",
    "\n",
    "evals, evecs = np.linalg.eig(M)\n",
    "E1 = M@evecs\n",
    "E2 = M@evecs.T\n",
    "print(evals)\n",
    "\n",
    "fig, ax = plt.subplots()\n",
    "ax.plot([0,evecs[0,0]],[0,evecs[1,0]],'r-')\n",
    "ax.plot([0,evecs[0,1]],[0,evecs[1,1]],'k-')\n",
    "ax.plot([0,E1[0,0]],[0,E1[1,0]],'r-.')\n",
    "ax.plot([0,E1[0,1]],[0,E1[1,1]],'k-.')\n",
    "ax.plot([0,E2[0,0]],[0,E2[1,0]],'b-.')\n",
    "ax.plot([0,E2[0,1]],[0,E2[1,1]],'b-.')\n",
    "ax.set_xticks(np.arange(-2,2,.5))\n",
    "ax.set_yticks(np.arange(-2,2,.5))\n",
    "\n",
    "plt.grid()\n",
    "plt.show()"
   ]
  },
  {
   "cell_type": "markdown",
   "id": "7da0d77d-1f6f-459a-9c57-0a4456b90c3f",
   "metadata": {},
   "source": [
    "The goal of this exercise is to demonstrate that eigenvalues are inextricably coupled\n",
    "to their eigenvectors. Diagonalize a symmetric random-integers matrix created using\n",
    "the additive method (see Exercise 5-9), but randomly reorder the eigenvalues (let’s\n",
    "call this matrix $\\Lambda$) without reordering the eigenvectors.\n",
    "\n",
    "First, demonstrate that you can reconstruct the original matrix as $V\\Lambda V^{−1}$. You can\n",
    "compute reconstruction accuracy as the Frobenius distance between the original and\n",
    "reconstructed matrix. Next, attempt to reconstruct the matrix using $\\Lambda$. How close is\n",
    "the reconstructed matrix to the original? What happens if you only swap the two\n",
    "largest eigenvalues instead of randomly reordering them? How about the two smallest\n",
    "eigenvalues?\n",
    "\n",
    "Finally, create a bar plot showing the Frobenius distances to the original matrix for\n",
    "the different swapping options (Figure 13-3). (Of course, because of the random\n",
    "matrices—and thus, random eigenvalues—your plot won’t look exactly like mine.)"
   ]
  },
  {
   "cell_type": "code",
   "execution_count": 225,
   "id": "53f958d0-aaf3-4896-bb3f-974f8a15c511",
   "metadata": {},
   "outputs": [
    {
     "name": "stdout",
     "output_type": "stream",
     "text": [
      "2.3219011409532515e-30 1.119581745369484 0.6788440793227407 0.4407376660467431\n"
     ]
    },
    {
     "data": {
      "image/png": "[encoded data removed]",
      "text/plain": [
       "<Figure size 640x480 with 1 Axes>"
      ]
     },
     "metadata": {},
     "output_type": "display_data"
    }
   ],
   "source": [
    "A = np.random.randn(4,4)\n",
    "A = (A+A.T)/2\n",
    "\n",
    "b = np.random.permutation(np.arange(0,4))\n",
    "\n",
    "#eigendecomp \n",
    "evals, V = np.linalg.eig(A)\n",
    "\n",
    "#reordering the eigenvals\n",
    "order = np.argsort(evals)\n",
    "\n",
    "O_A = order.copy()\n",
    "O_L2 = order.copy()\n",
    "O_S2 = order.copy()\n",
    "\n",
    "O_A[[np.where(O_A==0)[0],np.where(O_A==1)[0]]] = order[[np.where(order==1)[0],np.where(order==0)[0]]]\n",
    "O_A[[np.where(O_A==2)[0],np.where(O_A==3)[0]]] = order[[np.where(order==3)[0],np.where(order==2)[0]]]\n",
    "\n",
    "O_L2[[np.where(O_L2==2)[0],np.where(O_L2==3)[0]]] = order[[np.where(order==3)[0],np.where(order==2)[0]]]\n",
    "\n",
    "O_S2[[np.where(O_S2==0)[0],np.where(O_S2==1)[0]]] = order[[np.where(order==1)[0],np.where(order==0)[0]]]\n",
    "\n",
    "#the diagonal eigenvalues matrix\n",
    "D = np.diag(evals)\n",
    "LD = np.diag(np.take(evals,O_A))\n",
    "LL2 = np.diag(np.take(evals,O_L2))\n",
    "LS2 = np.diag(np.take(evals,O_S2))\n",
    "\n",
    "#reconstructing A\n",
    "AD = V@D@np.linalg.inv(V)\n",
    "AA = V@LD@np.linalg.inv(V)\n",
    "AL2 = V@LL2@np.linalg.inv(V)\n",
    "AS2 = V@LS2@np.linalg.inv(V)\n",
    "\n",
    "#frobenius distance of A\n",
    "d1 = np.sum((A-AA).flatten()**2)\n",
    "d2 = np.sum((A-AL2).flatten()**2)\n",
    "d3 = np.sum((A-AS2).flatten()**2)\n",
    "d0 = np.sum((A-AD).flatten()**2)\n",
    "print(d0,d1,d2,d3)\n",
    "\n",
    "fig,ax = plt.subplots()\n",
    "ax.bar(x=np.arange(0,4),height = [d0,d1,d2,d3],color='b')\n",
    "ax.set_xticks(np.arange(0,4),['None','All','Largest two','Smallest two'])\n",
    "ax.set_title('Reconstruction accuracy')\n",
    "ax.set_xlabel('Type of eigenvalue swapping')\n",
    "ax.set_ylabel('Frobenius distance to original')\n",
    "plt.show()"
   ]
  },
  {
   "cell_type": "code",
   "execution_count": 249,
   "id": "9343e79f-c362-46b1-8426-3f77d98a3f1f",
   "metadata": {},
   "outputs": [
    {
     "data": {
      "text/plain": [
       "2664430084.023555"
      ]
     },
     "execution_count": 249,
     "metadata": {},
     "output_type": "execute_result"
    }
   ],
   "source": [
    "A = np.random.randint(-14,14,(4,4))\n",
    "A = A.T@A\n",
    "ev, evec = np.linalg.eig(A)\n",
    "\n",
    "# A == np.around(evec@np.diag(ev)@np.linalg.inv(evec),0)\n",
    "\n",
    "np.around(np.sum(evecs**2,axis=0),0)\n",
    "\n",
    "np.sum((A-evecs@np.diag(ev)@evecs.T)**2)"
   ]
  }
 ],
 "metadata": {
  "kernelspec": {
   "display_name": "Python 3 (ipykernel)",
   "language": "python",
   "name": "python3"
  },
  "language_info": {
   "codemirror_mode": {
    "name": "ipython",
    "version": 3
   },
   "file_extension": ".py",
   "mimetype": "text/x-python",
   "name": "python",
   "nbconvert_exporter": "python",
   "pygments_lexer": "ipython3",
   "version": "3.11.9"
  }
 },
 "nbformat": 4,
 "nbformat_minor": 5
}
