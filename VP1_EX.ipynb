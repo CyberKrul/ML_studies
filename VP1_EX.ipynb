{
 "cells": [
  {
   "cell_type": "code",
   "execution_count": 2,
   "id": "e8e7269a-2855-484e-b40a-4002acdae4d1",
   "metadata": {},
   "outputs": [],
   "source": [
    "import numpy as np\n",
    "import matplotlib.pyplot as plt"
   ]
  },
  {
   "cell_type": "code",
   "execution_count": 13,
   "id": "0cf51022-be04-49ef-bfc1-492ea4c5ee0e",
   "metadata": {},
   "outputs": [
    {
     "name": "stdout",
     "output_type": "stream",
     "text": [
      "The calculated norm: 5.477225575051661 and the proper norm is: 5.477225575051661\n"
     ]
    }
   ],
   "source": [
    "#code the norm function:\n",
    "a = np.array([1,2,3,4])\n",
    "norm = np.sqrt(np.sum(a**2))\n",
    "sum=0\n",
    "for i in a:\n",
    "    sum+=i**2\n",
    "    \n",
    "print(f'The calculated norm: {np.sqrt(sum)} and the proper norm is: {np.linalg.norm(a)}')"
   ]
  },
  {
   "cell_type": "code",
   "execution_count": 12,
   "id": "544baa61-c4a7-4776-9bdf-41de24e3cb77",
   "metadata": {},
   "outputs": [
    {
     "name": "stdout",
     "output_type": "stream",
     "text": [
      "vector a is [1 2 3 4], its united form is [0.18257419 0.36514837 0.54772256 0.73029674] and the magnitude is 0.9999999999999999\n"
     ]
    }
   ],
   "source": [
    "# create a unit vector in the same direction as the given vector\n",
    "def unit_ize(a):\n",
    "    return a/np.linalg.norm(a)\n",
    "a = np.array([1,2,3,4])\n",
    "print(f'vector a is {a}, its united form is {unit_ize(a)} and the magnitude is {np.linalg.norm(unit_ize(a))}')"
   ]
  },
  {
   "cell_type": "code",
   "execution_count": 14,
   "id": "1ecc7662-d4d8-49ae-a235-7dba602d2323",
   "metadata": {},
   "outputs": [
    {
     "name": "stdout",
     "output_type": "stream",
     "text": [
      "[[ 1.  5.  9.]\n",
      " [ 2.  6. 10.]\n",
      " [ 3.  7. 11.]\n",
      " [ 4.  8. 12.]]\n"
     ]
    }
   ],
   "source": [
    "a = np.matrix([[1,2,3,4],[5,6,7,8],[9,10,11,12]])\n",
    "x,y = np.shape(a)\n",
    "t = np.zeros((y,x))\n",
    "\n",
    "for i in range(x):\n",
    "    for j in range(y):\n",
    "        t[j,i] = a[i,j]\n",
    "print(t)\n"
   ]
  },
  {
   "cell_type": "code",
   "execution_count": 15,
   "id": "458921fc-be81-4b6b-b71b-b1ead2906107",
   "metadata": {},
   "outputs": [
    {
     "data": {
      "text/plain": [
       "True"
      ]
     },
     "execution_count": 15,
     "metadata": {},
     "output_type": "execute_result"
    }
   ],
   "source": [
    "a = np.array([1,2,3,4])\n",
    "np.square(np.linalg.norm(a)) == np.dot(a,a)"
   ]
  },
  {
   "cell_type": "code",
   "execution_count": 17,
   "id": "f6784bad-e248-4bb9-86ac-973c84239a28",
   "metadata": {},
   "outputs": [
    {
     "name": "stdout",
     "output_type": "stream",
     "text": [
      "The dot product is 60\n"
     ]
    }
   ],
   "source": [
    "a = np.array([1,2,3,4])\n",
    "b = np.array([4,5,6,7])\n",
    "np.dot(a,b) == np.dot(b,a)\n",
    "print(f'The dot product is {np.dot(a,b)}')"
   ]
  },
  {
   "cell_type": "code",
   "execution_count": 132,
   "id": "3ca4090e-df1d-405c-806c-e86c48acab6c",
   "metadata": {},
   "outputs": [
    {
     "data": {
      "text/plain": [
       "0.6435011087932847"
      ]
     },
     "execution_count": 132,
     "metadata": {},
     "output_type": "execute_result"
    }
   ],
   "source": [
    "np.arccos(np.dot((1,2),(2,1))/(np.linalg.norm((1,2))*np.linalg.norm((2,1))))"
   ]
  },
  {
   "cell_type": "code",
   "execution_count": 144,
   "id": "f10eab14-fddc-46d7-804d-65c908ebcd83",
   "metadata": {},
   "outputs": [
    {
     "data": {
      "image/png": "[encoded data removed]",
      "text/plain": [
       "<Figure size 270x270 with 1 Axes>"
      ]
     },
     "metadata": {},
     "output_type": "display_data"
    }
   ],
   "source": [
    "import matplotlib.pyplot as plt\n",
    "\n",
    "x = np.array([0,0])\n",
    "y = np.array([0,0])\n",
    "u = np.array([1,2])\n",
    "v = np.array([2,1])\n",
    "\n",
    "hy= np.cos(0.6435)*np.linalg.norm((2,1))\n",
    "a_cap,b_cap = np.array([1,2])/np.linalg.norm((1,2))\n",
    "\n",
    "fig,ax = plt.subplots(figsize=(2.7,2.7))\n",
    "ax.quiver(x,y,u,v,angles='xy',scale_units='xy',scale=1)\n",
    "ax.plot((2,hy*a_cap),(1,hy*b_cap),ls='--')\n",
    "ax.grid()\n",
    "plt.text(1,2,'a')\n",
    "plt.text(2,1,'b')\n",
    "plt.text(hy*a_cap-.2,hy*b_cap,r'$\\beta$')\n",
    "plt.text(1.35,1.35,r'$(b-\\beta a)$')\n",
    "ax.set(xlim=(0,3),ylim=(0,3))\n",
    "plt.show()\n"
   ]
  },
  {
   "cell_type": "code",
   "execution_count": 10,
   "id": "ff8a4773-6099-4724-9598-87ce4867c275",
   "metadata": {},
   "outputs": [
    {
     "name": "stdout",
     "output_type": "stream",
     "text": [
      "-6.217248937900877e-15\n",
      "[ True  True]\n"
     ]
    },
    {
     "data": {
      "image/png": "[encoded data removed]",
      "text/plain": [
       "<Figure size 200x200 with 1 Axes>"
      ]
     },
     "metadata": {},
     "output_type": "display_data"
    }
   ],
   "source": [
    "plt.style.use('seaborn-v0_8-pastel')\n",
    "#make data\n",
    "a = np.random.random(2)*10\n",
    "b = np.random.random(2)*10\n",
    "r = b if np.linalg.norm(b)>np.linalg.norm(a) else a\n",
    "t = a if r is b else b\n",
    "\n",
    "#calculate beta and the parallel and orthogonal components\n",
    "beta = np.dot(t,r)/np.linalg.norm(r) #beta\n",
    "para = beta*(r/np.linalg.norm(r))\n",
    "perp = t-para\n",
    "\n",
    "print(np.dot(perp,r))\n",
    "print(para+perp==t)\n",
    "#plotting\n",
    "fig,ax = plt.subplots(figsize=(2,2))\n",
    "ax.quiver((0,0,0),(0,0,0),(r[0],t[0],perp[0]),(r[1],t[1],perp[1]),scale=1,angles='xy',scale_units='xy')\n",
    "ax.plot((t[0],para[0]),(t[1],para[1]),c='b',ls='--')#perp\n",
    "ax.plot((0,para[0]),(0,para[1]),c='Firebrick',ls='-')#para\n",
    "ax.set(xlim=(-3,10),ylim=(-3,10))\n",
    "ax.grid()\n",
    "plt.show()"
   ]
  },
  {
   "cell_type": "code",
   "execution_count": 89,
   "id": "3943d15e-2cfd-4c2d-a689-fc7cb642f6b0",
   "metadata": {},
   "outputs": [
    {
     "data": {
      "image/png": "[encoded data removed]",
      "text/plain": [
       "<Figure size 200x200 with 1 Axes>"
      ]
     },
     "metadata": {},
     "output_type": "display_data"
    }
   ],
   "source": [
    "plt.style.use('_mpl-gallery-nogrid')\n",
    "\n",
    "#make data\n",
    "x = np.zeros((1,2))\n",
    "y = np.zeros((1,2))\n",
    "u =np.array([10,20])\n",
    "v = np.array([20,10])\n",
    "fig,ax= plt.subplots()\n",
    "plt.style.use('seaborn-v0_8-dark')\n",
    "ax.grid()\n",
    "ax.plot((1,1.5),(1,0.5),ls='--')\n",
    "ax.quiver(x,y,u,v,color=['g','Firebrick'],scale_units='xy',scale=1,width=.015)\n",
    "ax.set(xlim=(-20,40),ylim=(0,20))\n",
    "\n",
    "plt.show()"
   ]
  },
  {
   "cell_type": "markdown",
   "id": "ef2b6107-3467-4e85-ba5b-cb5f16478089",
   "metadata": {},
   "source": [
    "The target vector is $\\bar{t}$ and the reference vector is $\\bar{r}$\n",
    "The goal of the decomposition is to decompose $\\hat{t}$ into two components:\n",
    "\n",
    "o Perpendicular component: $\\bar{t}_{\\perp r}$ that is perpendicular to the reference vector\n",
    "\n",
    "o Parallel component: $\\bar{t}_{||r}$ that is parallel to the reference vector\n",
    "\n",
    "$r^T.(t-\\beta r)=0$ states that the dot product of the reference vector and the vector perpendicular to the reference vector, $t-\\beta r$ is zero. Here, the difference of $t$ and the scaled vector $\\beta r$ should result in a vector perpendicular to the reference vector as per our assumption.\n",
    "\n",
    "Therefore we can find the value of $\\beta$ as:<br>\n",
    "$r^T.t - r^T.\\beta r = 0$<br>\n",
    "$\\beta r^T.r = r^T.t$<br>\n",
    "$\\beta = \\frac{r^T.t}{r^T.r}$\n",
    "\n",
    "We can now find the parallel component, $\\bar{r}_{||r}$ as $\\beta \\hat{r}$<br>\n",
    "We can then use the equation:<br>\n",
    "$\\bar{t} = \\bar{t}_{\\perp r} + \\bar{t}_{||r}$<br>\n",
    "Therefore we can find the perpendicular component as:\n",
    "$\\bar{t}_{\\perp r} = \\bar{t} - \\beta \\hat{r}$\n",
    "\n",
    "\n",
    "\n"
   ]
  }
 ],
 "metadata": {
  "kernelspec": {
   "display_name": "Python 3 (ipykernel)",
   "language": "python",
   "name": "python3"
  },
  "language_info": {
   "codemirror_mode": {
    "name": "ipython",
    "version": 3
   },
   "file_extension": ".py",
   "mimetype": "text/x-python",
   "name": "python",
   "nbconvert_exporter": "python",
   "pygments_lexer": "ipython3",
   "version": "3.11.7"
  }
 },
 "nbformat": 4,
 "nbformat_minor": 5
}
