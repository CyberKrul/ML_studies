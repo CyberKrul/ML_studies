{
 "cells": [
  {
   "cell_type": "code",
   "execution_count": 2,
   "id": "e94e60ce-a821-41ec-856f-a6e2b23a7c54",
   "metadata": {},
   "outputs": [],
   "source": [
    "import numpy as np"
   ]
  },
  {
   "cell_type": "code",
   "execution_count": 3,
   "id": "84a97165-91a3-4f62-a64d-ef9b217325cd",
   "metadata": {},
   "outputs": [],
   "source": [
    "asList = [1,2,3]\n",
    "asArray = np.array([1,2,3]) #1D array\n",
    "rowVec = np.array([[1,2,3]]) # row\n",
    "colVec = np.array([[1],[2],[3]]) #col"
   ]
  },
  {
   "cell_type": "code",
   "execution_count": 7,
   "id": "562fc050-18a2-481c-8883-ae327c06c804",
   "metadata": {},
   "outputs": [
    {
     "name": "stdout",
     "output_type": "stream",
     "text": [
      "<class 'numpy.ndarray'>\n",
      "(3,)\n",
      "<class 'numpy.ndarray'>\n",
      "(1, 3)\n",
      "<class 'numpy.ndarray'>\n",
      "(3, 1)\n"
     ]
    }
   ],
   "source": [
    "for item in (asArray,rowVec,colVec):\n",
    "    print(type(item))\n",
    "    print(item.shape)"
   ]
  },
  {
   "cell_type": "code",
   "execution_count": 11,
   "id": "a7c19d1b-55d2-4a4c-98e1-2284474d7467",
   "metadata": {},
   "outputs": [
    {
     "name": "stdout",
     "output_type": "stream",
     "text": [
      "vPlusW : [14 25 36],<class 'numpy.ndarray'>\n"
     ]
    }
   ],
   "source": [
    "v = np.array([4,5,6])\n",
    "w = np.array([10,20,30])\n",
    "u = np.array([0,3,6,9])\n",
    "\n",
    "vPlusW = v+w\n",
    "#uPlusW = u+w #error! dimensions mismatched\n",
    "print(f'vPlusW : {vPlusW},{type(vPlusW)}')"
   ]
  },
  {
   "cell_type": "code",
   "execution_count": 19,
   "id": "15caf496-8729-4fbb-803d-b67eec487643",
   "metadata": {},
   "outputs": [
    {
     "name": "stdout",
     "output_type": "stream",
     "text": [
      "shapes of v and u: (1, 3), (3, 1)\n"
     ]
    },
    {
     "data": {
      "text/plain": [
       "array([[14, 25, 36]])"
      ]
     },
     "execution_count": 19,
     "metadata": {},
     "output_type": "execute_result"
    }
   ],
   "source": [
    "#adding a row and a column vector\n",
    "v = np.array([[4,5,6]]) #a row vector\n",
    "u = np.array([[10],[20],[30]]) # col vector\n",
    "print(f'shapes of v and u: {v.shape}, {u.shape}')\n",
    "v+w\n",
    "#normally this would result in a broadcast result"
   ]
  },
  {
   "cell_type": "code",
   "execution_count": 14,
   "id": "eb71c72b-409b-493e-a2d3-148d8b8c0957",
   "metadata": {},
   "outputs": [
    {
     "name": "stdout",
     "output_type": "stream",
     "text": [
      "shape of v before 0 transpose operation: (1, 5)\n",
      "shape of v before 1 transpose operation: (5, 1)\n",
      "shape of v before 2 transpose operation: (1, 5)\n"
     ]
    }
   ],
   "source": [
    "#trying a multiple transpose:\n",
    "v = np.array([[1,2,3,4,5]]) #a row vector\n",
    "for i in range(3):\n",
    "    print(f'shape of v before {i} transpose operation: {v.shape}')\n",
    "    v = v.T"
   ]
  },
  {
   "cell_type": "code",
   "execution_count": 16,
   "id": "83c1bfe8-573a-4a89-8f43-8e80515a7b8f",
   "metadata": {},
   "outputs": [
    {
     "data": {
      "text/plain": [
       "array([[11, 21],\n",
       "       [12, 22],\n",
       "       [13, 23]])"
      ]
     },
     "execution_count": 16,
     "metadata": {},
     "output_type": "execute_result"
    }
   ],
   "source": [
    "v = np.array([[1,2,3]]).T #col vector\n",
    "u = np.array([[10,20]]) # row vector\n",
    "v+u # additon with broadcasting"
   ]
  },
  {
   "cell_type": "code",
   "execution_count": 23,
   "id": "bae781c3-6a4d-414b-bbde-93249b136148",
   "metadata": {},
   "outputs": [
    {
     "name": "stdout",
     "output_type": "stream",
     "text": [
      "the mathemtical dimensionality: 6\n",
      " The norm or magnitude 14.422205101855956\n",
      "the lenght of the unit vector v_cap:1.0\n"
     ]
    }
   ],
   "source": [
    "#getting the magnitude of a vector\n",
    "v = np.array([1,2,3,7,8,9])\n",
    "v_dim = len(v) #math dimensionality\n",
    "v_mag = np.linalg.norm(v) #math magnitude, length or norm\n",
    "print(f'the mathemtical dimensionality: {len(v)}\\n The norm or magnitude {np.linalg.norm(v)}')\n",
    "#to get the unit vector in the same direction as v:\n",
    "v_cap = v/v_mag\n",
    "print(f'the lenght of the unit vector v_cap:{np.linalg.norm(v_cap)}')"
   ]
  },
  {
   "cell_type": "code",
   "execution_count": 29,
   "id": "969cac58-f3b8-4eb0-a171-96a76726ce31",
   "metadata": {},
   "outputs": [
    {
     "name": "stdout",
     "output_type": "stream",
     "text": [
      "res1: 275, res2: 275\n"
     ]
    }
   ],
   "source": [
    "#the vector dot product\n",
    "v = np.array([1,2,3,4])\n",
    "w = np.array([5,6,7,8])\n",
    "u = np.array([13,21,34,12])\n",
    "\n",
    "#the dot product is distributive\n",
    "res1 = np.dot(v,u+w)\n",
    "res2 = np.dot(v,u) + np.dot(v,w)\n",
    "print(f'res1: {res1}, res2: {res2}')"
   ]
  },
  {
   "cell_type": "code",
   "execution_count": 31,
   "id": "65fe6e7c-a783-45aa-9b42-142f328fce4c",
   "metadata": {},
   "outputs": [
    {
     "data": {
      "text/plain": [
       "array([5., 0., 1.])"
      ]
     },
     "execution_count": 31,
     "metadata": {},
     "output_type": "execute_result"
    }
   ],
   "source": [
    "#how does the normal product operator work?\n",
    "#It results in Haddamard multiplication: just element wise mulitplication\n",
    "a = np.array([5,8,2])\n",
    "b = np.array([1,0,.5])\n",
    "a*b"
   ]
  },
  {
   "cell_type": "code",
   "execution_count": null,
   "id": "cd6f1ce4-265b-4a1a-8fcf-9dded90c487a",
   "metadata": {},
   "outputs": [],
   "source": [
    "#Outer product- create a matrix from a column and row vector\n",
    "# each row in the outer product matrix is the row vector scalar multiplied\n",
    "# by the corresponding element in the column vector.\n"
   ]
  }
 ],
 "metadata": {
  "kernelspec": {
   "display_name": "Python 3 (ipykernel)",
   "language": "python",
   "name": "python3"
  },
  "language_info": {
   "codemirror_mode": {
    "name": "ipython",
    "version": 3
   },
   "file_extension": ".py",
   "mimetype": "text/x-python",
   "name": "python",
   "nbconvert_exporter": "python",
   "pygments_lexer": "ipython3",
   "version": "3.11.7"
  }
 },
 "nbformat": 4,
 "nbformat_minor": 5
}
